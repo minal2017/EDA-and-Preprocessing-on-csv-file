{
 "cells": [
  {
   "cell_type": "code",
   "execution_count": 1,
   "metadata": {
    "scrolled": true
   },
   "outputs": [
    {
     "data": {
      "text/plain": [
       "'There are various types of feature selection technique : -\\n1. Filter Method \\nA. Correlation coefficient method \\nB . ANOVA Test\\nC. chi-square Test\\n2. Wrapping Method\\nA. Forward Wrapping method   B. Backward Wrapping method\\n3. Embedding method\\nA. Regularisation   method\\n1. Lasso and 2. Ridge\\nB . DecisionTreeclassifier\\n4. PCA : principal component analysis : This is feature extraction technique '"
      ]
     },
     "execution_count": 1,
     "metadata": {},
     "output_type": "execute_result"
    }
   ],
   "source": [
    "#Feature Selection Technique\n",
    "\n",
    "#dataset automobile_data.csv\n",
    "'''There are various types of feature selection technique : -\n",
    "1. Filter Method \n",
    "A. Correlation coefficient method \n",
    "B . ANOVA Test\n",
    "C. chi-square Test\n",
    "2. Wrapping Method\n",
    "A. Forward Wrapping method   B. Backward Wrapping method\n",
    "3. Embedding method\n",
    "A. Regularisation   method\n",
    "1. Lasso and 2. Ridge\n",
    "B . DecisionTreeclassifier\n",
    "4. PCA : principal component analysis : This is feature extraction technique '''"
   ]
  },
  {
   "cell_type": "code",
   "execution_count": 2,
   "metadata": {
    "scrolled": true
   },
   "outputs": [],
   "source": [
    "#ANOVA Test : Analysis of variance\n",
    "\n",
    "import numpy as np\n",
    "import matplotlib.pyplot as plt\n",
    "import pandas as pd\n",
    "import seaborn as sns\n",
    "import warnings\n",
    "warnings.filterwarnings('ignore')"
   ]
  },
  {
   "cell_type": "code",
   "execution_count": 3,
   "metadata": {
    "scrolled": true
   },
   "outputs": [
    {
     "data": {
      "text/html": [
       "<div>\n",
       "<style scoped>\n",
       "    .dataframe tbody tr th:only-of-type {\n",
       "        vertical-align: middle;\n",
       "    }\n",
       "\n",
       "    .dataframe tbody tr th {\n",
       "        vertical-align: top;\n",
       "    }\n",
       "\n",
       "    .dataframe thead th {\n",
       "        text-align: right;\n",
       "    }\n",
       "</style>\n",
       "<table border=\"1\" class=\"dataframe\">\n",
       "  <thead>\n",
       "    <tr style=\"text-align: right;\">\n",
       "      <th></th>\n",
       "      <th>symboling</th>\n",
       "      <th>normalized-losses</th>\n",
       "      <th>make</th>\n",
       "      <th>fuel-type</th>\n",
       "      <th>body-style</th>\n",
       "      <th>drive-wheels</th>\n",
       "      <th>engine-location</th>\n",
       "      <th>width</th>\n",
       "      <th>height</th>\n",
       "      <th>engine-type</th>\n",
       "      <th>engine-size</th>\n",
       "      <th>horsepower</th>\n",
       "      <th>city-mpg</th>\n",
       "      <th>highway-mpg</th>\n",
       "      <th>price</th>\n",
       "    </tr>\n",
       "  </thead>\n",
       "  <tbody>\n",
       "    <tr>\n",
       "      <th>0</th>\n",
       "      <td>3</td>\n",
       "      <td>?</td>\n",
       "      <td>alfa-romero</td>\n",
       "      <td>gas</td>\n",
       "      <td>convertible</td>\n",
       "      <td>rwd</td>\n",
       "      <td>front</td>\n",
       "      <td>64.1</td>\n",
       "      <td>48.8</td>\n",
       "      <td>dohc</td>\n",
       "      <td>130</td>\n",
       "      <td>111</td>\n",
       "      <td>21</td>\n",
       "      <td>27</td>\n",
       "      <td>13495</td>\n",
       "    </tr>\n",
       "    <tr>\n",
       "      <th>1</th>\n",
       "      <td>3</td>\n",
       "      <td>?</td>\n",
       "      <td>alfa-romero</td>\n",
       "      <td>gas</td>\n",
       "      <td>convertible</td>\n",
       "      <td>rwd</td>\n",
       "      <td>front</td>\n",
       "      <td>64.1</td>\n",
       "      <td>48.8</td>\n",
       "      <td>dohc</td>\n",
       "      <td>130</td>\n",
       "      <td>111</td>\n",
       "      <td>21</td>\n",
       "      <td>27</td>\n",
       "      <td>16500</td>\n",
       "    </tr>\n",
       "    <tr>\n",
       "      <th>2</th>\n",
       "      <td>1</td>\n",
       "      <td>?</td>\n",
       "      <td>alfa-romero</td>\n",
       "      <td>gas</td>\n",
       "      <td>hatchback</td>\n",
       "      <td>rwd</td>\n",
       "      <td>front</td>\n",
       "      <td>65.5</td>\n",
       "      <td>52.4</td>\n",
       "      <td>ohcv</td>\n",
       "      <td>152</td>\n",
       "      <td>154</td>\n",
       "      <td>19</td>\n",
       "      <td>26</td>\n",
       "      <td>16500</td>\n",
       "    </tr>\n",
       "    <tr>\n",
       "      <th>3</th>\n",
       "      <td>2</td>\n",
       "      <td>164</td>\n",
       "      <td>audi</td>\n",
       "      <td>gas</td>\n",
       "      <td>sedan</td>\n",
       "      <td>fwd</td>\n",
       "      <td>front</td>\n",
       "      <td>66.2</td>\n",
       "      <td>54.3</td>\n",
       "      <td>ohc</td>\n",
       "      <td>109</td>\n",
       "      <td>102</td>\n",
       "      <td>24</td>\n",
       "      <td>30</td>\n",
       "      <td>13950</td>\n",
       "    </tr>\n",
       "    <tr>\n",
       "      <th>4</th>\n",
       "      <td>2</td>\n",
       "      <td>164</td>\n",
       "      <td>audi</td>\n",
       "      <td>gas</td>\n",
       "      <td>sedan</td>\n",
       "      <td>4wd</td>\n",
       "      <td>front</td>\n",
       "      <td>66.4</td>\n",
       "      <td>54.3</td>\n",
       "      <td>ohc</td>\n",
       "      <td>136</td>\n",
       "      <td>115</td>\n",
       "      <td>18</td>\n",
       "      <td>22</td>\n",
       "      <td>17450</td>\n",
       "    </tr>\n",
       "  </tbody>\n",
       "</table>\n",
       "</div>"
      ],
      "text/plain": [
       "   symboling normalized-losses         make fuel-type   body-style  \\\n",
       "0          3                 ?  alfa-romero       gas  convertible   \n",
       "1          3                 ?  alfa-romero       gas  convertible   \n",
       "2          1                 ?  alfa-romero       gas    hatchback   \n",
       "3          2               164         audi       gas        sedan   \n",
       "4          2               164         audi       gas        sedan   \n",
       "\n",
       "  drive-wheels engine-location  width  height engine-type  engine-size  \\\n",
       "0          rwd           front   64.1    48.8        dohc          130   \n",
       "1          rwd           front   64.1    48.8        dohc          130   \n",
       "2          rwd           front   65.5    52.4        ohcv          152   \n",
       "3          fwd           front   66.2    54.3         ohc          109   \n",
       "4          4wd           front   66.4    54.3         ohc          136   \n",
       "\n",
       "  horsepower  city-mpg  highway-mpg  price  \n",
       "0        111        21           27  13495  \n",
       "1        111        21           27  16500  \n",
       "2        154        19           26  16500  \n",
       "3        102        24           30  13950  \n",
       "4        115        18           22  17450  "
      ]
     },
     "execution_count": 3,
     "metadata": {},
     "output_type": "execute_result"
    }
   ],
   "source": [
    "#To load dataset mobile.csv\n",
    "df=pd.read_csv(\"automobile_data.csv\")\n",
    "df.head()"
   ]
  },
  {
   "cell_type": "code",
   "execution_count": 4,
   "metadata": {
    "scrolled": true
   },
   "outputs": [
    {
     "data": {
      "text/plain": [
       "symboling            0\n",
       "normalized-losses    0\n",
       "make                 0\n",
       "fuel-type            0\n",
       "body-style           0\n",
       "drive-wheels         0\n",
       "engine-location      0\n",
       "width                0\n",
       "height               0\n",
       "engine-type          0\n",
       "engine-size          0\n",
       "horsepower           0\n",
       "city-mpg             0\n",
       "highway-mpg          0\n",
       "price                0\n",
       "dtype: int64"
      ]
     },
     "execution_count": 4,
     "metadata": {},
     "output_type": "execute_result"
    }
   ],
   "source": [
    "#check null values\n",
    "df.isnull().sum()"
   ]
  },
  {
   "cell_type": "code",
   "execution_count": 5,
   "metadata": {
    "scrolled": true
   },
   "outputs": [
    {
     "name": "stdout",
     "output_type": "stream",
     "text": [
      "<class 'pandas.core.frame.DataFrame'>\n",
      "RangeIndex: 205 entries, 0 to 204\n",
      "Data columns (total 15 columns):\n",
      " #   Column             Non-Null Count  Dtype  \n",
      "---  ------             --------------  -----  \n",
      " 0   symboling          205 non-null    int64  \n",
      " 1   normalized-losses  205 non-null    object \n",
      " 2   make               205 non-null    object \n",
      " 3   fuel-type          205 non-null    object \n",
      " 4   body-style         205 non-null    object \n",
      " 5   drive-wheels       205 non-null    object \n",
      " 6   engine-location    205 non-null    object \n",
      " 7   width              205 non-null    float64\n",
      " 8   height             205 non-null    float64\n",
      " 9   engine-type        205 non-null    object \n",
      " 10  engine-size        205 non-null    int64  \n",
      " 11  horsepower         205 non-null    object \n",
      " 12  city-mpg           205 non-null    int64  \n",
      " 13  highway-mpg        205 non-null    int64  \n",
      " 14  price              205 non-null    int64  \n",
      "dtypes: float64(2), int64(5), object(8)\n",
      "memory usage: 24.1+ KB\n"
     ]
    }
   ],
   "source": [
    "df.info()"
   ]
  },
  {
   "cell_type": "code",
   "execution_count": 6,
   "metadata": {
    "scrolled": true
   },
   "outputs": [
    {
     "data": {
      "text/plain": [
       "array(['?', '164', '158', '192', '188', '121', '98', '81', '118', '148',\n",
       "       '110', '145', '137', '101', '78', '106', '85', '107', '104', '113',\n",
       "       '150', '129', '115', '93', '142', '161', '153', '125', '128',\n",
       "       '122', '103', '168', '108', '194', '231', '119', '154', '74',\n",
       "       '186', '83', '102', '89', '87', '77', '91', '134', '65', '197',\n",
       "       '90', '94', '256', '95'], dtype=object)"
      ]
     },
     "execution_count": 6,
     "metadata": {},
     "output_type": "execute_result"
    }
   ],
   "source": [
    "df[\"normalized-losses\"].unique()"
   ]
  },
  {
   "cell_type": "code",
   "execution_count": 7,
   "metadata": {
    "scrolled": true
   },
   "outputs": [
    {
     "data": {
      "text/plain": [
       "symboling             0\n",
       "normalized-losses    41\n",
       "make                  0\n",
       "fuel-type             0\n",
       "body-style            0\n",
       "drive-wheels          0\n",
       "engine-location       0\n",
       "width                 0\n",
       "height                0\n",
       "engine-type           0\n",
       "engine-size           0\n",
       "horsepower            0\n",
       "city-mpg              0\n",
       "highway-mpg           0\n",
       "price                 0\n",
       "dtype: int64"
      ]
     },
     "execution_count": 7,
     "metadata": {},
     "output_type": "execute_result"
    }
   ],
   "source": [
    "#We replace the special char '?' to np.nan (means null values) in normalized-losses column\n",
    "#permanent\n",
    "df[\"normalized-losses\"].replace(\"?\",np.nan,inplace=True)\n",
    "#Then again check null values if df\n",
    "df.isnull().sum()"
   ]
  },
  {
   "cell_type": "code",
   "execution_count": 8,
   "metadata": {
    "scrolled": true
   },
   "outputs": [
    {
     "data": {
      "text/plain": [
       "(205, 15)"
      ]
     },
     "execution_count": 8,
     "metadata": {},
     "output_type": "execute_result"
    }
   ],
   "source": [
    "df.shape"
   ]
  },
  {
   "cell_type": "code",
   "execution_count": 9,
   "metadata": {
    "scrolled": true
   },
   "outputs": [
    {
     "name": "stdout",
     "output_type": "stream",
     "text": [
      "<class 'pandas.core.frame.DataFrame'>\n",
      "RangeIndex: 205 entries, 0 to 204\n",
      "Data columns (total 15 columns):\n",
      " #   Column             Non-Null Count  Dtype  \n",
      "---  ------             --------------  -----  \n",
      " 0   symboling          205 non-null    int64  \n",
      " 1   normalized-losses  164 non-null    object \n",
      " 2   make               205 non-null    object \n",
      " 3   fuel-type          205 non-null    object \n",
      " 4   body-style         205 non-null    object \n",
      " 5   drive-wheels       205 non-null    object \n",
      " 6   engine-location    205 non-null    object \n",
      " 7   width              205 non-null    float64\n",
      " 8   height             205 non-null    float64\n",
      " 9   engine-type        205 non-null    object \n",
      " 10  engine-size        205 non-null    int64  \n",
      " 11  horsepower         205 non-null    object \n",
      " 12  city-mpg           205 non-null    int64  \n",
      " 13  highway-mpg        205 non-null    int64  \n",
      " 14  price              205 non-null    int64  \n",
      "dtypes: float64(2), int64(5), object(8)\n",
      "memory usage: 24.1+ KB\n"
     ]
    }
   ],
   "source": [
    "df.info()"
   ]
  },
  {
   "cell_type": "code",
   "execution_count": 10,
   "metadata": {
    "scrolled": true
   },
   "outputs": [
    {
     "data": {
      "text/plain": [
       "symboling             0.0\n",
       "normalized-losses    20.0\n",
       "make                  0.0\n",
       "fuel-type             0.0\n",
       "body-style            0.0\n",
       "drive-wheels          0.0\n",
       "engine-location       0.0\n",
       "width                 0.0\n",
       "height                0.0\n",
       "engine-type           0.0\n",
       "engine-size           0.0\n",
       "horsepower            0.0\n",
       "city-mpg              0.0\n",
       "highway-mpg           0.0\n",
       "price                 0.0\n",
       "dtype: float64"
      ]
     },
     "execution_count": 10,
     "metadata": {},
     "output_type": "execute_result"
    }
   ],
   "source": [
    "#check % of null values of normalized-losses column wise\n",
    "df.isnull().sum()/df.shape[0]*100"
   ]
  },
  {
   "cell_type": "code",
   "execution_count": 11,
   "metadata": {
    "scrolled": true
   },
   "outputs": [
    {
     "name": "stdout",
     "output_type": "stream",
     "text": [
      "<class 'pandas.core.frame.DataFrame'>\n",
      "RangeIndex: 205 entries, 0 to 204\n",
      "Data columns (total 15 columns):\n",
      " #   Column             Non-Null Count  Dtype  \n",
      "---  ------             --------------  -----  \n",
      " 0   symboling          205 non-null    int64  \n",
      " 1   normalized-losses  164 non-null    float64\n",
      " 2   make               205 non-null    object \n",
      " 3   fuel-type          205 non-null    object \n",
      " 4   body-style         205 non-null    object \n",
      " 5   drive-wheels       205 non-null    object \n",
      " 6   engine-location    205 non-null    object \n",
      " 7   width              205 non-null    float64\n",
      " 8   height             205 non-null    float64\n",
      " 9   engine-type        205 non-null    object \n",
      " 10  engine-size        205 non-null    int64  \n",
      " 11  horsepower         205 non-null    object \n",
      " 12  city-mpg           205 non-null    int64  \n",
      " 13  highway-mpg        205 non-null    int64  \n",
      " 14  price              205 non-null    int64  \n",
      "dtypes: float64(3), int64(5), object(7)\n",
      "memory usage: 24.1+ KB\n"
     ]
    }
   ],
   "source": [
    "#we change the datatype of df[\"normalized-losses\"] column from object to float\n",
    "df[\"normalized-losses\"]=df[\"normalized-losses\"].astype(\"float\")\n",
    "df.info()"
   ]
  },
  {
   "cell_type": "code",
   "execution_count": 12,
   "metadata": {
    "scrolled": true
   },
   "outputs": [
    {
     "data": {
      "text/plain": [
       "symboling            0\n",
       "normalized-losses    0\n",
       "make                 0\n",
       "fuel-type            0\n",
       "body-style           0\n",
       "drive-wheels         0\n",
       "engine-location      0\n",
       "width                0\n",
       "height               0\n",
       "engine-type          0\n",
       "engine-size          0\n",
       "horsepower           0\n",
       "city-mpg             0\n",
       "highway-mpg          0\n",
       "price                0\n",
       "dtype: int64"
      ]
     },
     "execution_count": 12,
     "metadata": {},
     "output_type": "execute_result"
    }
   ],
   "source": [
    "#We fill null values in normalized-losses  column with mean of itsel column normalized-losses  permanently\n",
    "m=df[\"normalized-losses\"].mean()\n",
    "df[\"normalized-losses\"].fillna(m,inplace=True)\n",
    "#check again null values\n",
    "df.isnull().sum()"
   ]
  },
  {
   "cell_type": "code",
   "execution_count": 13,
   "metadata": {
    "scrolled": true
   },
   "outputs": [
    {
     "name": "stdout",
     "output_type": "stream",
     "text": [
      "<class 'pandas.core.frame.DataFrame'>\n",
      "RangeIndex: 205 entries, 0 to 204\n",
      "Data columns (total 15 columns):\n",
      " #   Column             Non-Null Count  Dtype  \n",
      "---  ------             --------------  -----  \n",
      " 0   symboling          205 non-null    int64  \n",
      " 1   normalized-losses  205 non-null    float64\n",
      " 2   make               205 non-null    object \n",
      " 3   fuel-type          205 non-null    object \n",
      " 4   body-style         205 non-null    object \n",
      " 5   drive-wheels       205 non-null    object \n",
      " 6   engine-location    205 non-null    object \n",
      " 7   width              205 non-null    float64\n",
      " 8   height             205 non-null    float64\n",
      " 9   engine-type        205 non-null    object \n",
      " 10  engine-size        205 non-null    int64  \n",
      " 11  horsepower         205 non-null    object \n",
      " 12  city-mpg           205 non-null    int64  \n",
      " 13  highway-mpg        205 non-null    int64  \n",
      " 14  price              205 non-null    int64  \n",
      "dtypes: float64(3), int64(5), object(7)\n",
      "memory usage: 24.1+ KB\n"
     ]
    }
   ],
   "source": [
    "df.info()"
   ]
  },
  {
   "cell_type": "code",
   "execution_count": 14,
   "metadata": {
    "scrolled": true
   },
   "outputs": [
    {
     "data": {
      "text/html": [
       "<div>\n",
       "<style scoped>\n",
       "    .dataframe tbody tr th:only-of-type {\n",
       "        vertical-align: middle;\n",
       "    }\n",
       "\n",
       "    .dataframe tbody tr th {\n",
       "        vertical-align: top;\n",
       "    }\n",
       "\n",
       "    .dataframe thead th {\n",
       "        text-align: right;\n",
       "    }\n",
       "</style>\n",
       "<table border=\"1\" class=\"dataframe\">\n",
       "  <thead>\n",
       "    <tr style=\"text-align: right;\">\n",
       "      <th></th>\n",
       "      <th>symboling</th>\n",
       "      <th>normalized-losses</th>\n",
       "      <th>make</th>\n",
       "      <th>fuel-type</th>\n",
       "      <th>body-style</th>\n",
       "      <th>drive-wheels</th>\n",
       "      <th>engine-location</th>\n",
       "      <th>width</th>\n",
       "      <th>height</th>\n",
       "      <th>engine-type</th>\n",
       "      <th>engine-size</th>\n",
       "      <th>horsepower</th>\n",
       "      <th>city-mpg</th>\n",
       "      <th>highway-mpg</th>\n",
       "      <th>price</th>\n",
       "    </tr>\n",
       "  </thead>\n",
       "  <tbody>\n",
       "    <tr>\n",
       "      <th>0</th>\n",
       "      <td>3</td>\n",
       "      <td>122.0</td>\n",
       "      <td>alfa-romero</td>\n",
       "      <td>gas</td>\n",
       "      <td>convertible</td>\n",
       "      <td>rwd</td>\n",
       "      <td>front</td>\n",
       "      <td>64.1</td>\n",
       "      <td>48.8</td>\n",
       "      <td>dohc</td>\n",
       "      <td>130</td>\n",
       "      <td>111</td>\n",
       "      <td>21</td>\n",
       "      <td>27</td>\n",
       "      <td>13495</td>\n",
       "    </tr>\n",
       "    <tr>\n",
       "      <th>1</th>\n",
       "      <td>3</td>\n",
       "      <td>122.0</td>\n",
       "      <td>alfa-romero</td>\n",
       "      <td>gas</td>\n",
       "      <td>convertible</td>\n",
       "      <td>rwd</td>\n",
       "      <td>front</td>\n",
       "      <td>64.1</td>\n",
       "      <td>48.8</td>\n",
       "      <td>dohc</td>\n",
       "      <td>130</td>\n",
       "      <td>111</td>\n",
       "      <td>21</td>\n",
       "      <td>27</td>\n",
       "      <td>16500</td>\n",
       "    </tr>\n",
       "    <tr>\n",
       "      <th>2</th>\n",
       "      <td>1</td>\n",
       "      <td>122.0</td>\n",
       "      <td>alfa-romero</td>\n",
       "      <td>gas</td>\n",
       "      <td>hatchback</td>\n",
       "      <td>rwd</td>\n",
       "      <td>front</td>\n",
       "      <td>65.5</td>\n",
       "      <td>52.4</td>\n",
       "      <td>ohcv</td>\n",
       "      <td>152</td>\n",
       "      <td>154</td>\n",
       "      <td>19</td>\n",
       "      <td>26</td>\n",
       "      <td>16500</td>\n",
       "    </tr>\n",
       "    <tr>\n",
       "      <th>3</th>\n",
       "      <td>2</td>\n",
       "      <td>164.0</td>\n",
       "      <td>audi</td>\n",
       "      <td>gas</td>\n",
       "      <td>sedan</td>\n",
       "      <td>fwd</td>\n",
       "      <td>front</td>\n",
       "      <td>66.2</td>\n",
       "      <td>54.3</td>\n",
       "      <td>ohc</td>\n",
       "      <td>109</td>\n",
       "      <td>102</td>\n",
       "      <td>24</td>\n",
       "      <td>30</td>\n",
       "      <td>13950</td>\n",
       "    </tr>\n",
       "    <tr>\n",
       "      <th>4</th>\n",
       "      <td>2</td>\n",
       "      <td>164.0</td>\n",
       "      <td>audi</td>\n",
       "      <td>gas</td>\n",
       "      <td>sedan</td>\n",
       "      <td>4wd</td>\n",
       "      <td>front</td>\n",
       "      <td>66.4</td>\n",
       "      <td>54.3</td>\n",
       "      <td>ohc</td>\n",
       "      <td>136</td>\n",
       "      <td>115</td>\n",
       "      <td>18</td>\n",
       "      <td>22</td>\n",
       "      <td>17450</td>\n",
       "    </tr>\n",
       "  </tbody>\n",
       "</table>\n",
       "</div>"
      ],
      "text/plain": [
       "   symboling  normalized-losses         make fuel-type   body-style  \\\n",
       "0          3              122.0  alfa-romero       gas  convertible   \n",
       "1          3              122.0  alfa-romero       gas  convertible   \n",
       "2          1              122.0  alfa-romero       gas    hatchback   \n",
       "3          2              164.0         audi       gas        sedan   \n",
       "4          2              164.0         audi       gas        sedan   \n",
       "\n",
       "  drive-wheels engine-location  width  height engine-type  engine-size  \\\n",
       "0          rwd           front   64.1    48.8        dohc          130   \n",
       "1          rwd           front   64.1    48.8        dohc          130   \n",
       "2          rwd           front   65.5    52.4        ohcv          152   \n",
       "3          fwd           front   66.2    54.3         ohc          109   \n",
       "4          4wd           front   66.4    54.3         ohc          136   \n",
       "\n",
       "  horsepower  city-mpg  highway-mpg  price  \n",
       "0        111        21           27  13495  \n",
       "1        111        21           27  16500  \n",
       "2        154        19           26  16500  \n",
       "3        102        24           30  13950  \n",
       "4        115        18           22  17450  "
      ]
     },
     "execution_count": 14,
     "metadata": {},
     "output_type": "execute_result"
    }
   ],
   "source": [
    "df.head()"
   ]
  },
  {
   "cell_type": "code",
   "execution_count": 15,
   "metadata": {
    "scrolled": true
   },
   "outputs": [
    {
     "data": {
      "text/plain": [
       "array(['111', '154', '102', '115', '110', '140', '160', '101', '121',\n",
       "       '182', '48', '70', '68', '88', '145', '58', '76', '60', '86',\n",
       "       '100', '78', '90', '176', '262', '135', '84', '64', '120', '72',\n",
       "       '123', '155', '184', '175', '116', '69', '55', '97', '152', '200',\n",
       "       '95', '142', '143', '207', '288', '?', '73', '82', '94', '62',\n",
       "       '56', '112', '92', '161', '156', '52', '85', '114', '162', '134',\n",
       "       '106'], dtype=object)"
      ]
     },
     "execution_count": 15,
     "metadata": {},
     "output_type": "execute_result"
    }
   ],
   "source": [
    "df[\"horsepower\"].unique()"
   ]
  },
  {
   "cell_type": "code",
   "execution_count": 16,
   "metadata": {
    "scrolled": true
   },
   "outputs": [
    {
     "name": "stdout",
     "output_type": "stream",
     "text": [
      "% of Null values og horse power :  0.975609756097561\n",
      "<class 'pandas.core.frame.DataFrame'>\n",
      "RangeIndex: 205 entries, 0 to 204\n",
      "Data columns (total 15 columns):\n",
      " #   Column             Non-Null Count  Dtype  \n",
      "---  ------             --------------  -----  \n",
      " 0   symboling          205 non-null    int64  \n",
      " 1   normalized-losses  205 non-null    float64\n",
      " 2   make               205 non-null    object \n",
      " 3   fuel-type          205 non-null    object \n",
      " 4   body-style         205 non-null    object \n",
      " 5   drive-wheels       205 non-null    object \n",
      " 6   engine-location    205 non-null    object \n",
      " 7   width              205 non-null    float64\n",
      " 8   height             205 non-null    float64\n",
      " 9   engine-type        205 non-null    object \n",
      " 10  engine-size        205 non-null    int64  \n",
      " 11  horsepower         205 non-null    float64\n",
      " 12  city-mpg           205 non-null    int64  \n",
      " 13  highway-mpg        205 non-null    int64  \n",
      " 14  price              205 non-null    int64  \n",
      "dtypes: float64(4), int64(5), object(6)\n",
      "memory usage: 24.1+ KB\n"
     ]
    }
   ],
   "source": [
    "#Replace ? with null value in horsepower column  permanently change\n",
    "df[\"horsepower\"].replace(\"?\",np.nan,inplace=True)\n",
    "#To change the datatype of horsepower from object to float\n",
    "df[\"horsepower\"]=df[\"horsepower\"].astype(\"float\")\n",
    "#check % of null values of normalized-losses column wise\n",
    "print(\"% of Null values og horse power : \",df[\"horsepower\"].isnull().sum()/df.shape[0]*100)\n",
    "#To fill horsepower from mean of horsepower\n",
    "\n",
    "df[\"horsepower\"].fillna(df[\"horsepower\"].mean(),inplace=True)\n",
    "df.info()"
   ]
  },
  {
   "cell_type": "code",
   "execution_count": 17,
   "metadata": {
    "scrolled": true
   },
   "outputs": [
    {
     "data": {
      "text/plain": [
       "Index(['make', 'fuel-type', 'body-style', 'drive-wheels', 'engine-location',\n",
       "       'engine-type'],\n",
       "      dtype='object')"
      ]
     },
     "execution_count": 17,
     "metadata": {},
     "output_type": "execute_result"
    }
   ],
   "source": [
    "#separate numeric type column and object type(categorical type) column from df and hold new dataframe\n",
    "#df_num : to hold nyumeric type column and df_cat : to hold categorical type dATA\n",
    "df_num=df.select_dtypes([\"int64\",\"float64\"])\n",
    "df_cat=df.select_dtypes(object)\n",
    "#to display all object type columns\n",
    "df_cat.columns"
   ]
  },
  {
   "cell_type": "code",
   "execution_count": 18,
   "metadata": {
    "scrolled": true
   },
   "outputs": [
    {
     "data": {
      "text/html": [
       "<div>\n",
       "<style scoped>\n",
       "    .dataframe tbody tr th:only-of-type {\n",
       "        vertical-align: middle;\n",
       "    }\n",
       "\n",
       "    .dataframe tbody tr th {\n",
       "        vertical-align: top;\n",
       "    }\n",
       "\n",
       "    .dataframe thead th {\n",
       "        text-align: right;\n",
       "    }\n",
       "</style>\n",
       "<table border=\"1\" class=\"dataframe\">\n",
       "  <thead>\n",
       "    <tr style=\"text-align: right;\">\n",
       "      <th></th>\n",
       "      <th>make</th>\n",
       "      <th>fuel-type</th>\n",
       "      <th>body-style</th>\n",
       "      <th>drive-wheels</th>\n",
       "      <th>engine-location</th>\n",
       "      <th>engine-type</th>\n",
       "    </tr>\n",
       "  </thead>\n",
       "  <tbody>\n",
       "    <tr>\n",
       "      <th>0</th>\n",
       "      <td>0</td>\n",
       "      <td>1</td>\n",
       "      <td>0</td>\n",
       "      <td>2</td>\n",
       "      <td>0</td>\n",
       "      <td>0</td>\n",
       "    </tr>\n",
       "    <tr>\n",
       "      <th>1</th>\n",
       "      <td>0</td>\n",
       "      <td>1</td>\n",
       "      <td>0</td>\n",
       "      <td>2</td>\n",
       "      <td>0</td>\n",
       "      <td>0</td>\n",
       "    </tr>\n",
       "    <tr>\n",
       "      <th>2</th>\n",
       "      <td>0</td>\n",
       "      <td>1</td>\n",
       "      <td>2</td>\n",
       "      <td>2</td>\n",
       "      <td>0</td>\n",
       "      <td>5</td>\n",
       "    </tr>\n",
       "    <tr>\n",
       "      <th>3</th>\n",
       "      <td>1</td>\n",
       "      <td>1</td>\n",
       "      <td>3</td>\n",
       "      <td>1</td>\n",
       "      <td>0</td>\n",
       "      <td>3</td>\n",
       "    </tr>\n",
       "    <tr>\n",
       "      <th>4</th>\n",
       "      <td>1</td>\n",
       "      <td>1</td>\n",
       "      <td>3</td>\n",
       "      <td>0</td>\n",
       "      <td>0</td>\n",
       "      <td>3</td>\n",
       "    </tr>\n",
       "  </tbody>\n",
       "</table>\n",
       "</div>"
      ],
      "text/plain": [
       "   make  fuel-type  body-style  drive-wheels  engine-location  engine-type\n",
       "0     0          1           0             2                0            0\n",
       "1     0          1           0             2                0            0\n",
       "2     0          1           2             2                0            5\n",
       "3     1          1           3             1                0            3\n",
       "4     1          1           3             0                0            3"
      ]
     },
     "execution_count": 18,
     "metadata": {},
     "output_type": "execute_result"
    }
   ],
   "source": [
    "#Change object type data into numerical type with the help of LabelEncoder\n",
    "from sklearn.preprocessing import LabelEncoder\n",
    "\n",
    "for col in df_cat:\n",
    "    #create the object of LabelEncoder class\n",
    "    le=LabelEncoder()\n",
    "    df_cat[col]=le.fit_transform(df_cat[col])\n",
    "\n",
    "#show first 5 records from df_cat\n",
    "df_cat.head()"
   ]
  },
  {
   "cell_type": "code",
   "execution_count": 19,
   "metadata": {
    "scrolled": true
   },
   "outputs": [
    {
     "data": {
      "text/html": [
       "<div>\n",
       "<style scoped>\n",
       "    .dataframe tbody tr th:only-of-type {\n",
       "        vertical-align: middle;\n",
       "    }\n",
       "\n",
       "    .dataframe tbody tr th {\n",
       "        vertical-align: top;\n",
       "    }\n",
       "\n",
       "    .dataframe thead th {\n",
       "        text-align: right;\n",
       "    }\n",
       "</style>\n",
       "<table border=\"1\" class=\"dataframe\">\n",
       "  <thead>\n",
       "    <tr style=\"text-align: right;\">\n",
       "      <th></th>\n",
       "      <th>symboling</th>\n",
       "      <th>normalized-losses</th>\n",
       "      <th>width</th>\n",
       "      <th>height</th>\n",
       "      <th>engine-size</th>\n",
       "      <th>horsepower</th>\n",
       "      <th>city-mpg</th>\n",
       "      <th>highway-mpg</th>\n",
       "      <th>price</th>\n",
       "      <th>make</th>\n",
       "      <th>fuel-type</th>\n",
       "      <th>body-style</th>\n",
       "      <th>drive-wheels</th>\n",
       "      <th>engine-location</th>\n",
       "      <th>engine-type</th>\n",
       "    </tr>\n",
       "  </thead>\n",
       "  <tbody>\n",
       "    <tr>\n",
       "      <th>0</th>\n",
       "      <td>3</td>\n",
       "      <td>122.0</td>\n",
       "      <td>64.1</td>\n",
       "      <td>48.8</td>\n",
       "      <td>130</td>\n",
       "      <td>111.0</td>\n",
       "      <td>21</td>\n",
       "      <td>27</td>\n",
       "      <td>13495</td>\n",
       "      <td>0</td>\n",
       "      <td>1</td>\n",
       "      <td>0</td>\n",
       "      <td>2</td>\n",
       "      <td>0</td>\n",
       "      <td>0</td>\n",
       "    </tr>\n",
       "    <tr>\n",
       "      <th>1</th>\n",
       "      <td>3</td>\n",
       "      <td>122.0</td>\n",
       "      <td>64.1</td>\n",
       "      <td>48.8</td>\n",
       "      <td>130</td>\n",
       "      <td>111.0</td>\n",
       "      <td>21</td>\n",
       "      <td>27</td>\n",
       "      <td>16500</td>\n",
       "      <td>0</td>\n",
       "      <td>1</td>\n",
       "      <td>0</td>\n",
       "      <td>2</td>\n",
       "      <td>0</td>\n",
       "      <td>0</td>\n",
       "    </tr>\n",
       "    <tr>\n",
       "      <th>2</th>\n",
       "      <td>1</td>\n",
       "      <td>122.0</td>\n",
       "      <td>65.5</td>\n",
       "      <td>52.4</td>\n",
       "      <td>152</td>\n",
       "      <td>154.0</td>\n",
       "      <td>19</td>\n",
       "      <td>26</td>\n",
       "      <td>16500</td>\n",
       "      <td>0</td>\n",
       "      <td>1</td>\n",
       "      <td>2</td>\n",
       "      <td>2</td>\n",
       "      <td>0</td>\n",
       "      <td>5</td>\n",
       "    </tr>\n",
       "    <tr>\n",
       "      <th>3</th>\n",
       "      <td>2</td>\n",
       "      <td>164.0</td>\n",
       "      <td>66.2</td>\n",
       "      <td>54.3</td>\n",
       "      <td>109</td>\n",
       "      <td>102.0</td>\n",
       "      <td>24</td>\n",
       "      <td>30</td>\n",
       "      <td>13950</td>\n",
       "      <td>1</td>\n",
       "      <td>1</td>\n",
       "      <td>3</td>\n",
       "      <td>1</td>\n",
       "      <td>0</td>\n",
       "      <td>3</td>\n",
       "    </tr>\n",
       "    <tr>\n",
       "      <th>4</th>\n",
       "      <td>2</td>\n",
       "      <td>164.0</td>\n",
       "      <td>66.4</td>\n",
       "      <td>54.3</td>\n",
       "      <td>136</td>\n",
       "      <td>115.0</td>\n",
       "      <td>18</td>\n",
       "      <td>22</td>\n",
       "      <td>17450</td>\n",
       "      <td>1</td>\n",
       "      <td>1</td>\n",
       "      <td>3</td>\n",
       "      <td>0</td>\n",
       "      <td>0</td>\n",
       "      <td>3</td>\n",
       "    </tr>\n",
       "  </tbody>\n",
       "</table>\n",
       "</div>"
      ],
      "text/plain": [
       "   symboling  normalized-losses  width  height  engine-size  horsepower  \\\n",
       "0          3              122.0   64.1    48.8          130       111.0   \n",
       "1          3              122.0   64.1    48.8          130       111.0   \n",
       "2          1              122.0   65.5    52.4          152       154.0   \n",
       "3          2              164.0   66.2    54.3          109       102.0   \n",
       "4          2              164.0   66.4    54.3          136       115.0   \n",
       "\n",
       "   city-mpg  highway-mpg  price  make  fuel-type  body-style  drive-wheels  \\\n",
       "0        21           27  13495     0          1           0             2   \n",
       "1        21           27  16500     0          1           0             2   \n",
       "2        19           26  16500     0          1           2             2   \n",
       "3        24           30  13950     1          1           3             1   \n",
       "4        18           22  17450     1          1           3             0   \n",
       "\n",
       "   engine-location  engine-type  \n",
       "0                0            0  \n",
       "1                0            0  \n",
       "2                0            5  \n",
       "3                0            3  \n",
       "4                0            3  "
      ]
     },
     "execution_count": 19,
     "metadata": {},
     "output_type": "execute_result"
    }
   ],
   "source": [
    "#concatenate means merge both df_num and df_cat dataset and hold new dataset \n",
    "#df_new\n",
    "df_new=pd.concat([df_num,df_cat],axis=1)\n",
    "df_new.head()"
   ]
  },
  {
   "cell_type": "code",
   "execution_count": 20,
   "metadata": {
    "scrolled": true
   },
   "outputs": [],
   "source": [
    "#Separate Input variable and output variable from dataset df_new\n",
    "X=df_new.drop(\"price\",axis=1) #input features\n",
    "Y=df_new[\"price\"] #output means target variable"
   ]
  },
  {
   "cell_type": "code",
   "execution_count": 21,
   "metadata": {
    "scrolled": true
   },
   "outputs": [],
   "source": [
    "#Train_Test_split (70%-30%)\n",
    "from sklearn.model_selection import train_test_split\n",
    "\n",
    "#Train_test_split\n",
    "X_train,X_test,Y_train,Y_test = train_test_split(X,Y,test_size=0.3,random_state=1)"
   ]
  },
  {
   "cell_type": "code",
   "execution_count": 22,
   "metadata": {
    "scrolled": true
   },
   "outputs": [],
   "source": [
    "#BaseLine Model with multiple linear regression\n",
    "#call linear regression \n",
    "from sklearn.linear_model import LinearRegression"
   ]
  },
  {
   "cell_type": "code",
   "execution_count": 23,
   "metadata": {
    "scrolled": true
   },
   "outputs": [],
   "source": [
    "#Create object of LinearRegression class\n",
    "lr=LinearRegression()\n"
   ]
  },
  {
   "cell_type": "code",
   "execution_count": 24,
   "metadata": {
    "scrolled": true
   },
   "outputs": [
    {
     "data": {
      "text/plain": [
       "LinearRegression()"
      ]
     },
     "execution_count": 24,
     "metadata": {},
     "output_type": "execute_result"
    }
   ],
   "source": [
    "#train the model with 70% data \n",
    "#Training\n",
    "lr.fit(X_train,Y_train)"
   ]
  },
  {
   "cell_type": "code",
   "execution_count": 25,
   "metadata": {
    "scrolled": true
   },
   "outputs": [],
   "source": [
    "#Test the model with 30% test\n",
    "Y_pred=lr.predict(X_test)"
   ]
  },
  {
   "cell_type": "code",
   "execution_count": 26,
   "metadata": {
    "scrolled": true
   },
   "outputs": [
    {
     "name": "stdout",
     "output_type": "stream",
     "text": [
      "MSE :  12259459.6887845\n",
      "R2-score :  0.7965566780397384\n"
     ]
    }
   ],
   "source": [
    "from sklearn.metrics import mean_squared_error,r2_score\n",
    "print(\"MSE : \",mean_squared_error(Y_test,Y_pred))\n",
    "print(\"R2-score : \",r2_score(Y_test,Y_pred))"
   ]
  },
  {
   "cell_type": "code",
   "execution_count": 27,
   "metadata": {
    "scrolled": true
   },
   "outputs": [
    {
     "data": {
      "text/plain": [
       "0.7965566780397384"
      ]
     },
     "execution_count": 27,
     "metadata": {},
     "output_type": "execute_result"
    }
   ],
   "source": [
    "#To check score of model (testing the model with 30% input and output)\n",
    "lr.score(X_test,Y_test) #similar to r2_score"
   ]
  },
  {
   "cell_type": "code",
   "execution_count": 28,
   "metadata": {
    "scrolled": true
   },
   "outputs": [],
   "source": [
    "#It is not bad but try above 90%"
   ]
  },
  {
   "cell_type": "code",
   "execution_count": 29,
   "metadata": {
    "scrolled": true
   },
   "outputs": [],
   "source": [
    "#Apply feature selection technique \n",
    "#Use ANOVA Test means analysis of variance \n",
    "from sklearn.feature_selection import f_regression #f_regression inbuilt class for anova test\n",
    "#We use f_regression class as a parameter\n",
    "\n",
    "from sklearn.feature_selection import SelectKBest\n"
   ]
  },
  {
   "cell_type": "code",
   "execution_count": 30,
   "metadata": {
    "scrolled": true
   },
   "outputs": [],
   "source": [
    "#Create object of SelectKBest class and pass f_regression class as a parameter for ANOVA test\n",
    "anova=SelectKBest(score_func=f_regression,k=6) #here k is a parameter which select max imp input\n",
    "#features\n",
    "#anova is a user defined object "
   ]
  },
  {
   "cell_type": "code",
   "execution_count": 31,
   "metadata": {
    "scrolled": true
   },
   "outputs": [],
   "source": [
    "X_train_anova=anova.fit_transform(X_train,Y_train) \n",
    "#formula of f-score/f-test/f-statistics =variance between group/variance within group"
   ]
  },
  {
   "cell_type": "code",
   "execution_count": 32,
   "metadata": {
    "scrolled": true
   },
   "outputs": [],
   "source": [
    "X_test_anova=anova.transform(X_test) #30% testing input"
   ]
  },
  {
   "cell_type": "code",
   "execution_count": 33,
   "metadata": {
    "scrolled": true
   },
   "outputs": [
    {
     "data": {
      "text/plain": [
       "array([False, False,  True, False,  True,  True,  True,  True, False,\n",
       "       False, False,  True, False, False])"
      ]
     },
     "execution_count": 33,
     "metadata": {},
     "output_type": "execute_result"
    }
   ],
   "source": [
    "#to show inpo features from dataframe  : use inbuilt method get_support() of SelectKBest class\n",
    "#return answer in boolean means TRUE/FALSE\n",
    "anova.get_support() "
   ]
  },
  {
   "cell_type": "code",
   "execution_count": 34,
   "metadata": {
    "scrolled": true
   },
   "outputs": [
    {
     "data": {
      "text/plain": [
       "Index(['symboling', 'normalized-losses', 'width', 'height', 'engine-size',\n",
       "       'horsepower', 'city-mpg', 'highway-mpg', 'make', 'fuel-type',\n",
       "       'body-style', 'drive-wheels', 'engine-location', 'engine-type'],\n",
       "      dtype='object')"
      ]
     },
     "execution_count": 34,
     "metadata": {},
     "output_type": "execute_result"
    }
   ],
   "source": [
    "X.columns"
   ]
  },
  {
   "cell_type": "code",
   "execution_count": 35,
   "metadata": {
    "scrolled": true
   },
   "outputs": [],
   "source": [
    "#we again train  the mmodel with MLR\n",
    "#Create object of LinearRegression class\n",
    "lr1=LinearRegression()"
   ]
  },
  {
   "cell_type": "code",
   "execution_count": 36,
   "metadata": {
    "scrolled": true
   },
   "outputs": [
    {
     "data": {
      "text/plain": [
       "LinearRegression()"
      ]
     },
     "execution_count": 36,
     "metadata": {},
     "output_type": "execute_result"
    }
   ],
   "source": [
    "#train the model with 70% data  with imp features\n",
    "#Training\n",
    "lr1.fit(X_train_anova,Y_train)"
   ]
  },
  {
   "cell_type": "code",
   "execution_count": 37,
   "metadata": {
    "scrolled": true
   },
   "outputs": [
    {
     "data": {
      "text/plain": [
       "0.7982503502453706"
      ]
     },
     "execution_count": 37,
     "metadata": {},
     "output_type": "execute_result"
    }
   ],
   "source": [
    "#To check score of model (testing the model with 30% input and output)\n",
    "lr1.score(X_test_anova,Y_test) #similar to r2_score"
   ]
  },
  {
   "cell_type": "code",
   "execution_count": 38,
   "metadata": {
    "scrolled": true
   },
   "outputs": [],
   "source": [
    "#X=df[[\"width\",\"engine-size\"]]"
   ]
  },
  {
   "cell_type": "code",
   "execution_count": 39,
   "metadata": {
    "scrolled": true
   },
   "outputs": [
    {
     "data": {
      "text/plain": [
       "Index(['symboling', 'normalized-losses', 'width', 'height', 'engine-size',\n",
       "       'horsepower', 'city-mpg', 'highway-mpg', 'make', 'fuel-type',\n",
       "       'body-style', 'drive-wheels', 'engine-location', 'engine-type'],\n",
       "      dtype='object')"
      ]
     },
     "execution_count": 39,
     "metadata": {},
     "output_type": "execute_result"
    }
   ],
   "source": [
    "#Apply CHI-Square test : -   chi-2 test : - It is a feature selection technique \n",
    "#It is the third type of Filter method\n",
    "\n",
    "'''Note : - Chi-2 test does not work from -ve value means chi-2 test will not apply on \n",
    "-ve value .'''\n",
    "#we have dataset\n",
    "X.columns"
   ]
  },
  {
   "cell_type": "code",
   "execution_count": 40,
   "metadata": {
    "scrolled": true
   },
   "outputs": [
    {
     "name": "stdout",
     "output_type": "stream",
     "text": [
      "Column Name :  symboling\n",
      "[ 3  1  2  0 -1 -2]\n",
      "Column Name :  normalized-losses\n",
      "[122. 164. 158. 192. 188. 121.  98.  81. 118. 148. 110. 145. 137. 101.\n",
      "  78. 106.  85. 107. 104. 113. 150. 129. 115.  93. 142. 161. 153. 125.\n",
      " 128. 103. 168. 108. 194. 231. 119. 154.  74. 186.  83. 102.  89.  87.\n",
      "  77.  91. 134.  65. 197.  90.  94. 256.  95.]\n",
      "Column Name :  width\n",
      "[64.1 65.5 66.2 66.4 66.3 71.4 67.9 64.8 66.9 70.9 60.3 63.6 63.8 64.6\n",
      " 63.9 64.  65.2 62.5 66.  61.8 69.6 70.6 64.2 65.7 66.5 66.1 70.3 71.7\n",
      " 70.5 72.  68.  64.4 65.4 68.4 68.3 65.  72.3 66.6 63.4 65.6 67.7 67.2\n",
      " 68.9 68.8]\n",
      "Column Name :  height\n",
      "[48.8 52.4 54.3 53.1 55.7 55.9 52.  53.7 56.3 53.2 50.8 50.6 59.8 50.2\n",
      " 52.6 54.5 58.3 53.3 54.1 51.  53.5 51.4 52.8 47.8 49.6 55.5 54.4 56.5\n",
      " 58.7 54.9 56.7 55.4 54.8 49.4 51.6 54.7 55.1 56.1 49.7 56.  50.5 55.2\n",
      " 52.5 53.  59.1 53.9 55.6 56.2 57.5]\n",
      "Column Name :  engine-size\n",
      "[130 152 109 136 131 108 164 209  61  90  98 122 156  92  79 110 111 119\n",
      " 258 326  91  70  80 140 134 183 234 308 304  97 103 120 181 151 194 203\n",
      " 132 121 146 171 161 141 173 145]\n",
      "Column Name :  horsepower\n",
      "[111.         154.         102.         115.         110.\n",
      " 140.         160.         101.         121.         182.\n",
      "  48.          70.          68.          88.         145.\n",
      "  58.          76.          60.          86.         100.\n",
      "  78.          90.         176.         262.         135.\n",
      "  84.          64.         120.          72.         123.\n",
      " 155.         184.         175.         116.          69.\n",
      "  55.          97.         152.         200.          95.\n",
      " 142.         143.         207.         288.         104.25615764\n",
      "  73.          82.          94.          62.          56.\n",
      " 112.          92.         161.         156.          52.\n",
      "  85.         114.         162.         134.         106.        ]\n",
      "Column Name :  city-mpg\n",
      "[21 19 24 18 17 16 23 20 15 47 38 37 31 49 30 27 25 13 26 36 22 14 45 28\n",
      " 32 35 34 29 33]\n",
      "Column Name :  highway-mpg\n",
      "[27 26 30 22 25 20 29 28 53 43 41 38 24 54 42 34 33 31 19 17 23 32 39 18\n",
      " 16 37 50 36 47 46]\n",
      "Column Name :  make\n",
      "[ 0  1  2  3  4  5  6  7  8  9 10 11 12 13 14 15 16 17 18 19 20 21]\n",
      "Column Name :  fuel-type\n",
      "[1 0]\n",
      "Column Name :  body-style\n",
      "[0 2 3 4 1]\n",
      "Column Name :  drive-wheels\n",
      "[2 1 0]\n",
      "Column Name :  engine-location\n",
      "[0 1]\n",
      "Column Name :  engine-type\n",
      "[0 5 3 2 6 4 1]\n"
     ]
    }
   ],
   "source": [
    "for col in X:\n",
    "    print(\"Column Name : \",col)\n",
    "    print(df_new[col].unique())"
   ]
  },
  {
   "cell_type": "code",
   "execution_count": 41,
   "metadata": {
    "scrolled": true
   },
   "outputs": [
    {
     "data": {
      "text/plain": [
       "'Here we have some -ve values in this dataset ,means this code not work means this method(chi-2)\\nnot work on this dataset'"
      ]
     },
     "execution_count": 41,
     "metadata": {},
     "output_type": "execute_result"
    }
   ],
   "source": [
    "'''Here we have some -ve values in this dataset ,means this code not work means this method(chi-2)\n",
    "not work on this dataset'''"
   ]
  },
  {
   "cell_type": "code",
   "execution_count": 42,
   "metadata": {
    "scrolled": true
   },
   "outputs": [],
   "source": [
    "#If apply CHI-2 Test on dataset\n",
    "from sklearn.feature_selection import chi2\n",
    "#Create object of SelectKBest class and pass chi-2 class as a parameter for CHI-2 test\n",
    "chi=SelectKBest(score_func=chi2,k=10) #here k is a parameter which select max imp input\n",
    "#features\n",
    "#chi is a user defined object "
   ]
  },
  {
   "cell_type": "code",
   "execution_count": 43,
   "metadata": {
    "scrolled": true
   },
   "outputs": [],
   "source": [
    "#X_train_chi=chi.fit_transform(X_train,Y_train) "
   ]
  },
  {
   "cell_type": "code",
   "execution_count": 44,
   "metadata": {
    "scrolled": true
   },
   "outputs": [
    {
     "data": {
      "text/plain": [
       "'1. Filter method\\n   2. Wrapper method \\n   Basic difference between filter method and wrapper method : -\\n   1. Filter method : first we select best input features from dataset then we create the model\\n   2. wrapper method : just opposite work of filter method\\n   In wrapper method , first we create the model then we select important input features means \\n   select right input features \\n   There are 2 types of wrapper method : -\\n   1. forward selection wrapper method\\n   2. backward selection wrapper method'"
      ]
     },
     "execution_count": 44,
     "metadata": {},
     "output_type": "execute_result"
    }
   ],
   "source": [
    "'''2. Wrapping Method\n",
    "A. Forward Wrapping method   B. Backward Wrapping method '''\n",
    "\n",
    "#Feature selection technique : \n",
    "'''1. Filter method\n",
    "   2. Wrapper method \n",
    "   Basic difference between filter method and wrapper method : -\n",
    "   1. Filter method : first we select best input features from dataset then we create the model\n",
    "   2. wrapper method : just opposite work of filter method\n",
    "   In wrapper method , first we create the model then we select important input features means \n",
    "   select right input features \n",
    "   There are 2 types of wrapper method : -\n",
    "   1. forward selection wrapper method\n",
    "   2. backward selection wrapper method'''"
   ]
  },
  {
   "cell_type": "code",
   "execution_count": 45,
   "metadata": {
    "scrolled": true
   },
   "outputs": [
    {
     "data": {
      "text/plain": [
       "Index(['symboling', 'normalized-losses', 'width', 'height', 'engine-size',\n",
       "       'horsepower', 'city-mpg', 'highway-mpg', 'make', 'fuel-type',\n",
       "       'body-style', 'drive-wheels', 'engine-location', 'engine-type'],\n",
       "      dtype='object')"
      ]
     },
     "execution_count": 45,
     "metadata": {},
     "output_type": "execute_result"
    }
   ],
   "source": [
    "X.columns"
   ]
  },
  {
   "cell_type": "code",
   "execution_count": 46,
   "metadata": {
    "scrolled": true
   },
   "outputs": [
    {
     "name": "stdout",
     "output_type": "stream",
     "text": [
      "Column Name :  symboling score :  -0.0017837050450488778\n",
      "Column Name :  normalized-losses score :  0.041612508167990114\n",
      "Column Name :  width score :  0.6171737569085429\n",
      "Column Name :  height score :  0.6183283499764449\n",
      "Column Name :  engine-size score :  0.7589560567217418\n",
      "Column Name :  horsepower score :  0.7741546338326667\n",
      "Column Name :  city-mpg score :  0.776896144188328\n",
      "Column Name :  highway-mpg score :  0.7777776382689499\n",
      "Column Name :  make score :  0.7924572281432336\n",
      "Column Name :  fuel-type score :  0.794854541611225\n",
      "Column Name :  body-style score :  0.7972954924014397\n",
      "Column Name :  drive-wheels score :  0.8135463420259217\n",
      "Column Name :  engine-location score :  0.7934456703438276\n",
      "Column Name :  engine-type score :  0.7965566780397384\n"
     ]
    }
   ],
   "source": [
    "#1. forward selection wrapper method : -is a very simple technique\n",
    "#we create the model first and then we add the input features \n",
    "\n",
    "#we create a empty list for columns \n",
    "columns=[]\n",
    "for col in X:\n",
    "    columns.append(col)\n",
    "    #print(columns)\n",
    "    X_new=df_new[columns]\n",
    "    #Train_test_split\n",
    "    X_train,X_test,Y_train,Y_test = train_test_split(X_new,Y,test_size=0.3,random_state=1)\n",
    "    #Create the object of Linear Regression\n",
    "    lr=LinearRegression()\n",
    "    #train the model with 70% data\n",
    "    lr.fit(X_train,Y_train)\n",
    "    #find the score\n",
    "    score=lr.score(X_test,Y_test)\n",
    "    print(\"Column Name : \",col ,\"score : \",score)"
   ]
  },
  {
   "cell_type": "code",
   "execution_count": 47,
   "metadata": {
    "scrolled": true
   },
   "outputs": [],
   "source": [
    "#Imp input feature : - width , engine-size ,make ,drive-wheels with target price\n",
    "\n",
    "#IMp Input features  select with the help of forward  selection :\n",
    "#Width ,engine-size,make,drive-wheels\n",
    "#and score 0.81"
   ]
  },
  {
   "cell_type": "code",
   "execution_count": 48,
   "metadata": {
    "scrolled": true
   },
   "outputs": [],
   "source": [
    "#Backward selection : -  Backward selection is exactly opposite of forward\n",
    "#selection We create a model with all the input features and every iteration \n",
    "#we keep removing the input features"
   ]
  },
  {
   "cell_type": "code",
   "execution_count": 49,
   "metadata": {
    "scrolled": true
   },
   "outputs": [
    {
     "data": {
      "text/plain": [
       "Index(['symboling', 'normalized-losses', 'width', 'height', 'engine-size',\n",
       "       'horsepower', 'city-mpg', 'highway-mpg', 'make', 'fuel-type',\n",
       "       'body-style', 'drive-wheels', 'engine-location', 'engine-type'],\n",
       "      dtype='object')"
      ]
     },
     "execution_count": 49,
     "metadata": {},
     "output_type": "execute_result"
    }
   ],
   "source": [
    "X.columns"
   ]
  },
  {
   "cell_type": "code",
   "execution_count": 50,
   "metadata": {
    "scrolled": true
   },
   "outputs": [
    {
     "data": {
      "text/plain": [
       "(205, 14)"
      ]
     },
     "execution_count": 50,
     "metadata": {},
     "output_type": "execute_result"
    }
   ],
   "source": [
    "X.shape"
   ]
  },
  {
   "cell_type": "code",
   "execution_count": 51,
   "metadata": {
    "scrolled": false
   },
   "outputs": [
    {
     "name": "stdout",
     "output_type": "stream",
     "text": [
      "No. of columns :  14\n",
      "Column :  14  Score :  0.7965566780397384\n",
      "After Remove Column :  14\n",
      "Column :  13  Score :  0.7934456703438276\n",
      "After Remove Column :  13\n",
      "Column :  12  Score :  0.8135463420259217\n",
      "After Remove Column :  12\n",
      "Column :  11  Score :  0.7972954924014397\n",
      "After Remove Column :  11\n",
      "Column :  10  Score :  0.794854541611225\n",
      "After Remove Column :  10\n",
      "Column :  9  Score :  0.7924572281432336\n",
      "After Remove Column :  9\n",
      "Column :  8  Score :  0.7777776382689499\n",
      "After Remove Column :  8\n",
      "Column :  7  Score :  0.776896144188328\n",
      "After Remove Column :  7\n",
      "Column :  6  Score :  0.7741546338326667\n",
      "After Remove Column :  6\n",
      "Column :  5  Score :  0.7589560567217418\n",
      "After Remove Column :  5\n",
      "Column :  4  Score :  0.6183283499764449\n",
      "After Remove Column :  4\n",
      "Column :  3  Score :  0.6171737569085429\n",
      "After Remove Column :  3\n",
      "Column :  2  Score :  0.041612508167990114\n",
      "After Remove Column :  2\n",
      "Column :  1  Score :  -0.0017837050450488778\n",
      "After Remove Column :  1\n"
     ]
    }
   ],
   "source": [
    "#Apply Backward Selection\n",
    "\n",
    "columns=[]#declare a empty list\n",
    "X_new=X\n",
    "n_col=X_new.shape[1] #no. of columns\n",
    "print(\"No. of columns : \",n_col)\n",
    "for i in range(n_col,0,-1):  #start=14 stop=0 step=-1\n",
    "    columns.append(X_new)#to add al lcolumns in list columns\n",
    "    #print(columns)\n",
    "    X_train,X_test,y_train,y_test = train_test_split(X_new,Y,test_size=0.3,random_state=1)\n",
    "    #create a object of LinearRegression\n",
    "    lr1=LinearRegression()\n",
    "    #we train the model\n",
    "    lr1.fit(X_train,y_train)\n",
    "    #find the score\n",
    "    score1=lr1.score(X_test,y_test) #r2_score()\n",
    "    print(\"Column : \",i, \" Score : \",score1)\n",
    "    X_new=X_new.iloc[:,:-1]  #iloc index location iloc[startrow:tillend row ,startcol:-1]\n",
    "    print(\"After Remove Column : \", i)"
   ]
  },
  {
   "cell_type": "code",
   "execution_count": 52,
   "metadata": {},
   "outputs": [],
   "source": [
    "#Separate Input variable and output variable from dataset df_new\n",
    "X=df_new.drop(\"price\",axis=1) #input features\n",
    "Y=df_new[\"price\"] #output means target variable"
   ]
  },
  {
   "cell_type": "code",
   "execution_count": 53,
   "metadata": {},
   "outputs": [],
   "source": [
    "#Train_Test_split (70%-30%)\n",
    "from sklearn.model_selection import train_test_split\n",
    "\n",
    "#Train_test_split\n",
    "X_train,X_test,Y_train,Y_test = train_test_split(X,Y,test_size=0.3,random_state=1)"
   ]
  },
  {
   "cell_type": "code",
   "execution_count": 54,
   "metadata": {
    "scrolled": false
   },
   "outputs": [
    {
     "name": "stdout",
     "output_type": "stream",
     "text": [
      "After scaling training data : \n",
      "[[ 1.69785729  0.02383412  0.12469565 ...  1.17275014 -0.14638501\n",
      "   0.00639503]\n",
      " [-1.42488988  0.02383412  0.21756793 ...  1.17275014 -0.14638501\n",
      "  -2.73707423]\n",
      " [-0.64420309 -1.38767531 -1.12908013 ... -2.35784501 -0.14638501\n",
      "   0.00639503]\n",
      " ...\n",
      " [ 1.69785729  0.7123753   2.07501352 ...  1.17275014 -0.14638501\n",
      "   1.83537454]\n",
      " [ 0.91717049 -1.31882119 -1.03620785 ... -2.35784501 -0.14638501\n",
      "   0.92088479]\n",
      " [-0.64420309 -0.52699883 -0.38610189 ... -0.59254744 -0.14638501\n",
      "   0.00639503]]\n",
      "After scaling testing data : \n",
      "[[ 0.91717049  1.36648942 -0.75759101 -1.1505694  -0.88726449 -0.93659652\n",
      "   0.96827365  1.1501568  -0.21761468  0.31622777 -0.73084958 -0.59254744\n",
      "  -0.14638501  0.00639503]\n",
      " [ 0.1364837  -0.63028001 -1.03620785 -0.08423516 -0.76570977 -0.91258233\n",
      "   0.96827365  1.00022752 -0.05803058  0.31622777  1.54113933 -0.59254744\n",
      "  -0.14638501  0.00639503]\n",
      " [ 0.1364837  -1.18111295 -1.12908013  0.31070345 -0.88726449 -1.08068167\n",
      "   0.96827365  1.1501568   1.05905813  0.31622777 -0.73084958 -0.59254744\n",
      "  -0.14638501  0.00639503]\n",
      " [ 0.1364837   0.02383412 -1.12908013 -0.67664307 -0.93588638 -0.88856813\n",
      "   2.06346227  1.89980322 -1.01553519  0.31622777  0.40514488 -0.59254744\n",
      "  -0.14638501  0.00639503]\n",
      " [-0.64420309 -1.24996707 -1.63987766  0.15272801 -0.44966748 -0.50434106\n",
      "   0.34245159  0.40051039 -1.17511929  0.31622777  0.40514488 -0.59254744\n",
      "  -0.14638501  0.00639503]\n",
      " [-1.42488988 -0.9745506   1.98214124  1.10058066  1.32503151  0.38418406\n",
      "  -0.439826   -0.79892387 -0.53678289 -3.16227766  0.40514488  1.17275014\n",
      "  -0.14638501  0.00639503]\n",
      " [ 0.91717049  1.60747884 -1.03620785 -0.16322288 -0.76570977 -0.91258233\n",
      "   0.96827365  1.00022752 -0.05803058  0.31622777 -1.86684404 -0.59254744\n",
      "  -0.14638501  0.00639503]\n",
      " [ 0.91717049 -0.01059294 -2.66147274 -0.20271674 -1.64090379 -1.41688037\n",
      "   3.47156192  3.39909604 -1.4942875   0.31622777 -0.73084958 -0.59254744\n",
      "  -0.14638501 -0.90809472]\n",
      " [ 0.1364837  -1.62866472 -1.12908013  0.31070345 -0.88726449 -1.08068167\n",
      "   0.96827365  1.1501568   1.05905813  0.31622777 -0.73084958 -0.59254744\n",
      "  -0.14638501  0.00639503]\n",
      " [-0.64420309 -0.2171553   0.21756793  0.70564206 -0.15793614 -0.55236944\n",
      "   0.18599607  0.25058111 -0.69636699  0.31622777  0.40514488 -0.59254744\n",
      "  -0.14638501  0.00639503]\n",
      " [ 0.91717049  1.4697706   0.17113179  0.23171573  0.18241709  0.19207052\n",
      "  -1.06564807 -1.24871172 -1.8134557   0.31622777  0.40514488 -2.35784501\n",
      "  -0.14638501  0.00639503]\n",
      " [ 0.91717049  0.43695883 -0.20035733 -0.28170446  0.42552654  0.21608471\n",
      "  -0.12691496 -0.04927746  1.05905813  0.31622777 -3.00283849  1.17275014\n",
      "  -0.14638501  0.00639503]\n",
      " [-1.42488988 -1.62866472  0.54262091  1.49551927  0.30397182  0.16805633\n",
      "  -0.12691496 -0.34913602  1.37822633  0.31622777  1.54113933  1.17275014\n",
      "  -0.14638501  0.00639503]\n",
      " [-0.64420309 -0.52699883 -0.38610189 -0.16322288 -0.44966748 -0.50434106\n",
      "   0.34245159  0.40051039 -1.17511929  0.31622777 -0.73084958 -0.59254744\n",
      "  -0.14638501  0.00639503]\n",
      " [ 1.69785729  0.81565648  0.12469565 -1.38753256  0.66863599  0.91249629\n",
      "  -0.90919255 -0.94885315 -1.33470339  0.31622777 -0.73084958 -0.59254744\n",
      "  -0.14638501  0.00639503]\n",
      " [ 0.91717049  0.43695883 -0.20035733 -0.67664307  0.42552654  0.21608471\n",
      "  -0.12691496 -0.04927746  1.05905813  0.31622777 -1.86684404  1.17275014\n",
      "  -0.14638501  0.00639503]\n",
      " [ 1.69785729  4.63706004 -0.94333557 -0.91360623 -0.47397842 -0.40828429\n",
      "  -0.12691496 -0.19920674  1.21864223  0.31622777 -0.73084958 -0.59254744\n",
      "  -0.14638501  0.00639503]\n",
      " [ 0.1364837  -0.69913412 -0.94333557 -0.4396799  -0.88726449 -0.74448298\n",
      "   0.81181814  0.55043967 -1.17511929  0.31622777 -0.73084958 -0.59254744\n",
      "  -0.14638501  0.00639503]\n",
      " [ 1.69785729  0.98779177  0.21756793  0.94260522 -0.18224708  1.27270918\n",
      "  -0.90919255 -0.64899459  0.73988993  0.31622777 -0.73084958 -0.59254744\n",
      "  -0.14638501 -2.73707423]\n",
      " [-0.64420309 -0.66470706 -0.29322961  0.23171573 -0.49828937  0.09601375\n",
      "  -0.12691496 -0.19920674  0.89947403  0.31622777  0.40514488 -2.35784501\n",
      "  -0.14638501  0.92088479]\n",
      " [-1.42488988 -1.93850825  0.21756793  0.46867889 -0.15793614 -0.3602559\n",
      "   0.65536262  0.55043967  1.05905813  0.31622777  0.40514488 -0.59254744\n",
      "  -0.14638501  0.00639503]\n",
      " [ 0.91717049  0.54024    -0.98977171 -1.1505694  -0.88726449 -0.74448298\n",
      "   0.96827365  1.1501568  -1.17511929  0.31622777 -0.73084958 -0.59254744\n",
      "  -0.14638501  0.00639503]\n",
      " [-0.64420309  2.43372826 -0.57184645  0.23171573 -0.49828937 -0.14412817\n",
      "  -0.28337048 -0.19920674 -1.6538716   0.31622777  0.40514488  1.17275014\n",
      "  -0.14638501  0.00639503]\n",
      " [ 0.1364837  -0.07944706 -1.03620785 -1.1505694  -0.74139882 -0.12011398\n",
      "  -0.12691496 -0.04927746  0.26113762  0.31622777 -0.73084958 -0.59254744\n",
      "  -0.14638501  0.00639503]\n",
      " [ 0.91717049  0.43695883 -0.20035733 -0.67664307  0.42552654  0.21608471\n",
      "  -0.12691496 -0.04927746  1.05905813  0.31622777 -0.73084958  1.17275014\n",
      "  -0.14638501  0.00639503]\n",
      " [ 0.1364837  -0.69913412 -0.94333557 -0.4396799  -0.88726449 -0.74448298\n",
      "   0.81181814  0.55043967 -1.17511929  0.31622777 -0.73084958 -0.59254744\n",
      "  -0.14638501  0.00639503]\n",
      " [ 1.69785729  0.02383412  0.12469565 -1.38753256  0.66863599  0.91249629\n",
      "  -0.90919255 -0.94885315 -0.21761468  0.31622777 -0.73084958 -0.59254744\n",
      "  -0.14638501  0.00639503]\n",
      " [ 0.91717049 -0.94012354 -0.24679347  0.78462978 -0.76570977 -1.3208236\n",
      "   1.90700675  2.34959106  1.21864223 -3.16227766  0.40514488 -0.59254744\n",
      "  -0.14638501  0.00639503]\n",
      " [ 0.1364837   1.12550001 -1.03620785 -1.22955712 -0.93588638 -0.93659652\n",
      "   0.96827365  1.1501568   0.26113762  0.31622777 -0.73084958 -0.59254744\n",
      "  -0.14638501  0.00639503]\n",
      " [-0.64420309 -0.38929059 -0.94333557  0.31070345 -0.88726449 -0.74448298\n",
      "   0.81181814  0.55043967 -1.17511929  0.31622777  0.40514488 -0.59254744\n",
      "  -0.14638501  0.00639503]\n",
      " [ 0.1364837   1.60747884 -0.94333557 -0.4396799  -0.74139882 -0.88856813\n",
      "   0.65536262  0.55043967  1.05905813  0.31622777  0.40514488  1.17275014\n",
      "  -0.14638501  0.00639503]\n",
      " [-1.42488988 -0.38929059 -0.66471873  2.40387807 -0.15793614 -0.45631267\n",
      "  -0.12691496 -0.04927746 -1.33470339  0.31622777  1.54113933 -0.59254744\n",
      "  -0.14638501  0.00639503]\n",
      " [-0.64420309  0.02383412  0.86767388 -0.00524744  1.95711608  1.80102141\n",
      "  -1.3785591  -1.24871172 -1.6538716   0.31622777  0.40514488  1.17275014\n",
      "  -0.14638501  0.00639503]\n",
      " [-0.64420309  0.02383412  0.21756793  0.58716047  0.08517331 -0.06593418\n",
      "  -0.28337048  0.10065183  0.58030582  0.31622777  1.54113933 -0.59254744\n",
      "  -0.14638501  0.00639503]\n",
      " [-0.64420309  1.36648942  1.09985458  1.17956839  0.57139221 -0.28821333\n",
      "   0.4989071   0.40051039  0.10155352 -3.16227766  0.40514488  1.17275014\n",
      "  -0.14638501 -0.90809472]\n",
      " [ 0.91717049  0.02383412 -0.24679347  0.78462978 -0.76570977 -1.3208236\n",
      "   1.90700675  2.34959106  1.21864223 -3.16227766  0.40514488 -0.59254744\n",
      "  -0.14638501  0.00639503]\n",
      " [ 0.1364837   0.91893766 -1.03620785 -1.22955712 -0.74139882 -0.12011398\n",
      "  -0.12691496 -0.04927746 -1.33470339  0.31622777  0.40514488 -0.59254744\n",
      "  -0.14638501  0.00639503]\n",
      " [-0.64420309  0.81565648  1.65708826 -0.36069218  3.14835239  1.65693626\n",
      "  -1.53501462 -1.69849956 -0.85595109  0.31622777  0.40514488  1.17275014\n",
      "  -0.14638501 -2.73707423]\n",
      " [ 1.69785729  0.98779177 -0.15392119 -1.62449573 -1.17899583  0.67235437\n",
      "  -1.3785591  -1.09878243 -0.69636699  0.31622777 -0.73084958  1.17275014\n",
      "  -0.14638501  2.74986429]\n",
      " [-1.42488988 -0.90569648  1.33203528  0.70564206  0.30397182  0.16805633\n",
      "  -0.90919255 -0.79892387  1.37822633  0.31622777  0.40514488  1.17275014\n",
      "  -0.14638501  0.00639503]\n",
      " [ 0.91717049 -1.31882119 -1.2219524  -0.00524744 -0.76570977 -0.91258233\n",
      "   0.96827365  0.85029824  0.89947403  0.31622777 -0.73084958 -0.59254744\n",
      "  -0.14638501  0.92088479]\n",
      " [ 0.1364837   3.77638356  0.86767388 -1.58500186  1.27640962  1.27270918\n",
      "  -0.90919255 -0.79892387 -0.05803058  0.31622777 -0.73084958  1.17275014\n",
      "  -0.14638501  1.83537454]\n",
      " [ 0.1364837   0.23039647 -1.03620785  0.31070345 -0.6198441  -1.24878102\n",
      "   3.15865089  2.94930819 -0.05803058 -3.16227766  0.40514488 -0.59254744\n",
      "  -0.14638501  0.00639503]\n",
      " [-0.64420309 -1.11225883 -0.29322961 -0.28170446 -0.49828937 -0.31222752\n",
      "   0.02954055  0.10065183  0.89947403  0.31622777  1.54113933 -0.59254744\n",
      "  -0.14638501  0.92088479]\n",
      " [ 0.91717049 -0.94012354 -0.24679347  0.78462978 -0.47397842 -0.52835525\n",
      "   0.34245159  0.55043967  1.21864223  0.31622777  0.40514488 -0.59254744\n",
      "  -0.14638501  0.00639503]\n",
      " [ 0.1364837   0.23039647 -1.03620785 -0.16322288 -0.76570977 -0.91258233\n",
      "   0.96827365  1.00022752 -0.05803058  0.31622777 -0.73084958 -0.59254744\n",
      "  -0.14638501  0.00639503]\n",
      " [-0.64420309  0.02383412  2.63224719  1.17956839  4.36389964  1.84904979\n",
      "  -1.69147013 -2.14828741 -0.53678289  0.31622777  0.40514488  1.17275014\n",
      "  -0.14638501  1.83537454]\n",
      " [ 0.1364837  -0.59585295 -0.85046329  0.15272801 -0.91157544 -0.93659652\n",
      "   0.96827365  1.1501568  -0.69636699  0.31622777 -0.73084958 -0.59254744\n",
      "  -0.14638501  0.00639503]\n",
      " [-0.64420309  1.36648942  1.05341844  0.90311136  0.1337952   0.84045372\n",
      "  -1.06564807 -0.94885315  0.10155352  0.31622777  0.40514488  1.17275014\n",
      "  -0.14638501 -0.90809472]\n",
      " [-0.64420309 -0.45814471  0.21756793  0.54766661  1.27640962  1.08059564\n",
      "  -0.90919255 -0.79892387 -0.05803058  0.31622777  0.40514488 -0.59254744\n",
      "  -0.14638501  1.83537454]\n",
      " [-0.64420309 -0.9745506   1.98214124  0.46867889  1.32503151  0.38418406\n",
      "  -0.439826   -0.79892387 -0.53678289 -3.16227766 -1.86684404  1.17275014\n",
      "  -0.14638501  0.00639503]\n",
      " [-0.64420309  1.36648942  1.09985458  1.17956839 -0.20655803 -0.24018494\n",
      "  -0.90919255 -0.94885315  0.10155352  0.31622777  0.40514488  1.17275014\n",
      "  -0.14638501 -0.90809472]\n",
      " [ 0.1364837   0.02383412  0.40331249  0.78462978  0.86312355  0.33615568\n",
      "  -0.75273703 -0.79892387 -1.6538716   0.31622777  0.40514488  1.17275014\n",
      "  -0.14638501  0.00639503]\n",
      " [-0.64420309 -1.04340471 -0.75759101 -0.36069218 -0.74139882 -0.88856813\n",
      "   0.4989071   0.55043967  1.05905813  0.31622777  0.40514488 -0.59254744\n",
      "  -0.14638501  0.00639503]\n",
      " [ 0.1364837   0.26482353  0.21756793 -0.00524744 -0.15793614 -0.55236944\n",
      "   0.18599607  0.25058111 -0.69636699  0.31622777 -0.73084958 -0.59254744\n",
      "  -0.14638501  0.00639503]\n",
      " [ 0.1364837  -0.8024153  -1.12908013 -0.67664307 -0.93588638 -0.88856813\n",
      "   2.06346227  1.89980322 -1.4942875   0.31622777 -0.73084958 -0.59254744\n",
      "  -0.14638501  0.00639503]\n",
      " [-1.42488988 -1.93850825  0.21756793  0.07374029 -0.15793614 -0.3602559\n",
      "   0.34245159  0.25058111  1.05905813  0.31622777 -0.73084958 -0.59254744\n",
      "  -0.14638501  0.00639503]\n",
      " [-0.64420309 -1.24996707 -0.38610189  0.15272801 -0.44966748 -0.50434106\n",
      "   0.34245159  0.40051039 -1.17511929  0.31622777  0.40514488 -0.59254744\n",
      "  -0.14638501  0.00639503]\n",
      " [-0.64420309  0.02383412  1.09985458  1.9694456   0.57139221 -0.28821333\n",
      "   0.02954055 -0.79892387  0.10155352 -3.16227766  1.54113933  1.17275014\n",
      "  -0.14638501 -0.90809472]\n",
      " [ 0.1364837   1.60747884 -0.94333557 -0.4396799  -0.74139882 -0.88856813\n",
      "   0.65536262  0.55043967  1.05905813  0.31622777 -0.73084958  1.17275014\n",
      "  -0.14638501  0.00639503]\n",
      " [ 1.69785729  0.98779177 -0.15392119 -1.62449573 -1.42210528 -0.14412817\n",
      "  -1.22210358 -1.09878243 -0.69636699  0.31622777 -0.73084958  1.17275014\n",
      "  -0.14638501  2.74986429]\n",
      " [-1.42488988 -1.93850825  0.21756793  0.46867889 -0.15793614 -0.3602559\n",
      "   0.34245159  0.25058111  1.05905813  0.31622777  0.40514488 -0.59254744\n"
     ]
    },
    {
     "name": "stdout",
     "output_type": "stream",
     "text": [
      "  -0.14638501  0.00639503]]\n"
     ]
    }
   ],
   "source": [
    "#PCA apply :-\n",
    "#Feature extraction technique (PCA) : Principal Component analysis\n",
    "#1. Standardization\n",
    "#inbuilt class StandardScaler  use formula Z-score = (Xi-mean of(X))/std(X)\n",
    "from sklearn.preprocessing import StandardScaler\n",
    "#fit_transform on training data X_train and transform on testing_data means X_test :\n",
    "#create object of StandardScaler class\n",
    "ss=StandardScaler()\n",
    "X_train=ss.fit_transform(X_train)\n",
    "X_test=ss.transform(X_test)\n",
    "print(\"After scaling training data : \")\n",
    "print(X_train)\n",
    "print(\"After scaling testing data : \")\n",
    "print(X_test)"
   ]
  },
  {
   "cell_type": "code",
   "execution_count": 55,
   "metadata": {},
   "outputs": [],
   "source": [
    "#Apply PCA\n",
    "from sklearn.decomposition import PCA"
   ]
  },
  {
   "cell_type": "code",
   "execution_count": 56,
   "metadata": {},
   "outputs": [],
   "source": [
    "#Create object of PCA class\n",
    "pc=PCA(n_components=None,random_state=1)  \n",
    "#n_components  inbuilt parameters ,here  pass no. of components means PC here total input 13 features\n",
    "#input features"
   ]
  },
  {
   "cell_type": "code",
   "execution_count": 57,
   "metadata": {},
   "outputs": [],
   "source": [
    "X_train_pc=pc.fit_transform(X_train,Y_train) #for training\n",
    "X_test_pc=pc.transform(X_test) #for testing"
   ]
  },
  {
   "cell_type": "code",
   "execution_count": 58,
   "metadata": {},
   "outputs": [
    {
     "name": "stdout",
     "output_type": "stream",
     "text": [
      "[0.31843907 0.19719633 0.09645413 0.08757305 0.07304917 0.051052\n",
      " 0.045261   0.03921772 0.0298119  0.02218366 0.01633985 0.01409031\n",
      " 0.00756932 0.00176248]\n"
     ]
    }
   ],
   "source": [
    "explain_variance=pc.explained_variance_ratio_\n",
    "print(explain_variance) #automatic arrange variance in descending order"
   ]
  },
  {
   "cell_type": "code",
   "execution_count": 59,
   "metadata": {},
   "outputs": [],
   "source": [
    "#Create object of PCA class\n",
    "pc1=PCA(n_components=10,random_state=1)  \n",
    "#n_components  inbuilt parameters ,here  pass no. of components =2 means PC here total input 13 features\n",
    "#input features"
   ]
  },
  {
   "cell_type": "code",
   "execution_count": 60,
   "metadata": {},
   "outputs": [],
   "source": [
    "X_train_pc1=pc1.fit_transform(X_train) #for training\n",
    "X_test_pc1=pc1.transform(X_test) #for testing"
   ]
  },
  {
   "cell_type": "code",
   "execution_count": 61,
   "metadata": {},
   "outputs": [
    {
     "name": "stdout",
     "output_type": "stream",
     "text": [
      "[0.31843907 0.19719633 0.09645413 0.08757305 0.07304917 0.051052\n",
      " 0.045261   0.03921772 0.0298119  0.02218366]\n"
     ]
    }
   ],
   "source": [
    "explain_variance=pc1.explained_variance_ratio_\n",
    "print(explain_variance) #automatic arrange variance in descending order"
   ]
  },
  {
   "cell_type": "code",
   "execution_count": 62,
   "metadata": {},
   "outputs": [],
   "source": [
    "#BaseLine Model Linear regression because we want bto predict numerical contieous value\n",
    "#use logistic regression algorithm\n",
    "from sklearn.linear_model import LinearRegression\n",
    "\n",
    "#create object of LinearRegression\n",
    "lr= LinearRegression()"
   ]
  },
  {
   "cell_type": "code",
   "execution_count": 63,
   "metadata": {},
   "outputs": [
    {
     "data": {
      "text/plain": [
       "LinearRegression()"
      ]
     },
     "execution_count": 63,
     "metadata": {},
     "output_type": "execute_result"
    }
   ],
   "source": [
    "#Train the model then inbuilt function fit() of LogisticRegression class\n",
    "lr.fit(X_train_pc1,Y_train)   #same as linearregression"
   ]
  },
  {
   "cell_type": "code",
   "execution_count": 64,
   "metadata": {},
   "outputs": [],
   "source": [
    "#test the model\n",
    "Y_pred=lr.predict(X_test_pc1)"
   ]
  },
  {
   "cell_type": "code",
   "execution_count": 65,
   "metadata": {},
   "outputs": [
    {
     "data": {
      "text/plain": [
       "0.809133996663054"
      ]
     },
     "execution_count": 65,
     "metadata": {},
     "output_type": "execute_result"
    }
   ],
   "source": [
    "lr.score(X_test_pc1,Y_test)"
   ]
  }
 ],
 "metadata": {
  "kernelspec": {
   "display_name": "Python 3",
   "language": "python",
   "name": "python3"
  },
  "language_info": {
   "codemirror_mode": {
    "name": "ipython",
    "version": 3
   },
   "file_extension": ".py",
   "mimetype": "text/x-python",
   "name": "python",
   "nbconvert_exporter": "python",
   "pygments_lexer": "ipython3",
   "version": "3.7.6"
  }
 },
 "nbformat": 4,
 "nbformat_minor": 5
}
