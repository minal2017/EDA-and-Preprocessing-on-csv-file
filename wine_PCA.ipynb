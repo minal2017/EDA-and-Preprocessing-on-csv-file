{
 "cells": [
  {
   "cell_type": "code",
   "execution_count": 1,
   "metadata": {
    "scrolled": true
   },
   "outputs": [],
   "source": [
    "import numpy as np\n",
    "import matplotlib.pyplot as plt\n",
    "import pandas as pd\n",
    "import seaborn as sns\n",
    "import warnings\n",
    "warnings.filterwarnings('ignore')"
   ]
  },
  {
   "cell_type": "code",
   "execution_count": 2,
   "metadata": {
    "scrolled": true
   },
   "outputs": [],
   "source": [
    "df=pd.read_csv(\"wine.csv\")"
   ]
  },
  {
   "cell_type": "code",
   "execution_count": 3,
   "metadata": {
    "scrolled": true
   },
   "outputs": [
    {
     "data": {
      "text/plain": [
       "(178, 14)"
      ]
     },
     "execution_count": 3,
     "metadata": {},
     "output_type": "execute_result"
    }
   ],
   "source": [
    "df.shape"
   ]
  },
  {
   "cell_type": "code",
   "execution_count": 4,
   "metadata": {
    "scrolled": true
   },
   "outputs": [
    {
     "name": "stdout",
     "output_type": "stream",
     "text": [
      "<class 'pandas.core.frame.DataFrame'>\n",
      "RangeIndex: 178 entries, 0 to 177\n",
      "Data columns (total 14 columns):\n",
      " #   Column                Non-Null Count  Dtype  \n",
      "---  ------                --------------  -----  \n",
      " 0   Alcohol               178 non-null    float64\n",
      " 1   Malic_Acid            178 non-null    float64\n",
      " 2   Ash                   178 non-null    float64\n",
      " 3   Ash_Alcanity          178 non-null    float64\n",
      " 4   Magnesium             178 non-null    int64  \n",
      " 5   Total_Phenols         178 non-null    float64\n",
      " 6   Flavanoids            178 non-null    float64\n",
      " 7   Nonflavanoid_Phenols  178 non-null    float64\n",
      " 8   Proanthocyanins       178 non-null    float64\n",
      " 9   Color_Intensity       178 non-null    float64\n",
      " 10  Hue                   178 non-null    float64\n",
      " 11  OD280                 178 non-null    float64\n",
      " 12  Proline               178 non-null    int64  \n",
      " 13  Customer_Segment      178 non-null    int64  \n",
      "dtypes: float64(11), int64(3)\n",
      "memory usage: 19.6 KB\n"
     ]
    }
   ],
   "source": [
    "df.info()"
   ]
  },
  {
   "cell_type": "code",
   "execution_count": 5,
   "metadata": {
    "scrolled": true
   },
   "outputs": [
    {
     "data": {
      "text/plain": [
       "Alcohol                 0\n",
       "Malic_Acid              0\n",
       "Ash                     0\n",
       "Ash_Alcanity            0\n",
       "Magnesium               0\n",
       "Total_Phenols           0\n",
       "Flavanoids              0\n",
       "Nonflavanoid_Phenols    0\n",
       "Proanthocyanins         0\n",
       "Color_Intensity         0\n",
       "Hue                     0\n",
       "OD280                   0\n",
       "Proline                 0\n",
       "Customer_Segment        0\n",
       "dtype: int64"
      ]
     },
     "execution_count": 5,
     "metadata": {},
     "output_type": "execute_result"
    }
   ],
   "source": [
    "df.isnull().sum()"
   ]
  },
  {
   "cell_type": "code",
   "execution_count": 6,
   "metadata": {
    "scrolled": true
   },
   "outputs": [
    {
     "data": {
      "text/html": [
       "<div>\n",
       "<style scoped>\n",
       "    .dataframe tbody tr th:only-of-type {\n",
       "        vertical-align: middle;\n",
       "    }\n",
       "\n",
       "    .dataframe tbody tr th {\n",
       "        vertical-align: top;\n",
       "    }\n",
       "\n",
       "    .dataframe thead th {\n",
       "        text-align: right;\n",
       "    }\n",
       "</style>\n",
       "<table border=\"1\" class=\"dataframe\">\n",
       "  <thead>\n",
       "    <tr style=\"text-align: right;\">\n",
       "      <th></th>\n",
       "      <th>Alcohol</th>\n",
       "      <th>Malic_Acid</th>\n",
       "      <th>Ash</th>\n",
       "      <th>Ash_Alcanity</th>\n",
       "      <th>Magnesium</th>\n",
       "      <th>Total_Phenols</th>\n",
       "      <th>Flavanoids</th>\n",
       "      <th>Nonflavanoid_Phenols</th>\n",
       "      <th>Proanthocyanins</th>\n",
       "      <th>Color_Intensity</th>\n",
       "      <th>Hue</th>\n",
       "      <th>OD280</th>\n",
       "      <th>Proline</th>\n",
       "      <th>Customer_Segment</th>\n",
       "    </tr>\n",
       "  </thead>\n",
       "  <tbody>\n",
       "    <tr>\n",
       "      <th>0</th>\n",
       "      <td>14.23</td>\n",
       "      <td>1.71</td>\n",
       "      <td>2.43</td>\n",
       "      <td>15.6</td>\n",
       "      <td>127</td>\n",
       "      <td>2.80</td>\n",
       "      <td>3.06</td>\n",
       "      <td>0.28</td>\n",
       "      <td>2.29</td>\n",
       "      <td>5.64</td>\n",
       "      <td>1.04</td>\n",
       "      <td>3.92</td>\n",
       "      <td>1065</td>\n",
       "      <td>1</td>\n",
       "    </tr>\n",
       "    <tr>\n",
       "      <th>1</th>\n",
       "      <td>13.20</td>\n",
       "      <td>1.78</td>\n",
       "      <td>2.14</td>\n",
       "      <td>11.2</td>\n",
       "      <td>100</td>\n",
       "      <td>2.65</td>\n",
       "      <td>2.76</td>\n",
       "      <td>0.26</td>\n",
       "      <td>1.28</td>\n",
       "      <td>4.38</td>\n",
       "      <td>1.05</td>\n",
       "      <td>3.40</td>\n",
       "      <td>1050</td>\n",
       "      <td>1</td>\n",
       "    </tr>\n",
       "    <tr>\n",
       "      <th>2</th>\n",
       "      <td>13.16</td>\n",
       "      <td>2.36</td>\n",
       "      <td>2.67</td>\n",
       "      <td>18.6</td>\n",
       "      <td>101</td>\n",
       "      <td>2.80</td>\n",
       "      <td>3.24</td>\n",
       "      <td>0.30</td>\n",
       "      <td>2.81</td>\n",
       "      <td>5.68</td>\n",
       "      <td>1.03</td>\n",
       "      <td>3.17</td>\n",
       "      <td>1185</td>\n",
       "      <td>1</td>\n",
       "    </tr>\n",
       "    <tr>\n",
       "      <th>3</th>\n",
       "      <td>14.37</td>\n",
       "      <td>1.95</td>\n",
       "      <td>2.50</td>\n",
       "      <td>16.8</td>\n",
       "      <td>113</td>\n",
       "      <td>3.85</td>\n",
       "      <td>3.49</td>\n",
       "      <td>0.24</td>\n",
       "      <td>2.18</td>\n",
       "      <td>7.80</td>\n",
       "      <td>0.86</td>\n",
       "      <td>3.45</td>\n",
       "      <td>1480</td>\n",
       "      <td>1</td>\n",
       "    </tr>\n",
       "    <tr>\n",
       "      <th>4</th>\n",
       "      <td>13.24</td>\n",
       "      <td>2.59</td>\n",
       "      <td>2.87</td>\n",
       "      <td>21.0</td>\n",
       "      <td>118</td>\n",
       "      <td>2.80</td>\n",
       "      <td>2.69</td>\n",
       "      <td>0.39</td>\n",
       "      <td>1.82</td>\n",
       "      <td>4.32</td>\n",
       "      <td>1.04</td>\n",
       "      <td>2.93</td>\n",
       "      <td>735</td>\n",
       "      <td>1</td>\n",
       "    </tr>\n",
       "  </tbody>\n",
       "</table>\n",
       "</div>"
      ],
      "text/plain": [
       "   Alcohol  Malic_Acid   Ash  Ash_Alcanity  Magnesium  Total_Phenols  \\\n",
       "0    14.23        1.71  2.43          15.6        127           2.80   \n",
       "1    13.20        1.78  2.14          11.2        100           2.65   \n",
       "2    13.16        2.36  2.67          18.6        101           2.80   \n",
       "3    14.37        1.95  2.50          16.8        113           3.85   \n",
       "4    13.24        2.59  2.87          21.0        118           2.80   \n",
       "\n",
       "   Flavanoids  Nonflavanoid_Phenols  Proanthocyanins  Color_Intensity   Hue  \\\n",
       "0        3.06                  0.28             2.29             5.64  1.04   \n",
       "1        2.76                  0.26             1.28             4.38  1.05   \n",
       "2        3.24                  0.30             2.81             5.68  1.03   \n",
       "3        3.49                  0.24             2.18             7.80  0.86   \n",
       "4        2.69                  0.39             1.82             4.32  1.04   \n",
       "\n",
       "   OD280  Proline  Customer_Segment  \n",
       "0   3.92     1065                 1  \n",
       "1   3.40     1050                 1  \n",
       "2   3.17     1185                 1  \n",
       "3   3.45     1480                 1  \n",
       "4   2.93      735                 1  "
      ]
     },
     "execution_count": 6,
     "metadata": {},
     "output_type": "execute_result"
    }
   ],
   "source": [
    "df.head()"
   ]
  },
  {
   "cell_type": "code",
   "execution_count": 7,
   "metadata": {
    "scrolled": true
   },
   "outputs": [
    {
     "data": {
      "text/plain": [
       "array([1, 2, 3], dtype=int64)"
      ]
     },
     "execution_count": 7,
     "metadata": {},
     "output_type": "execute_result"
    }
   ],
   "source": [
    "df[\"Customer_Segment\"].unique()\n"
   ]
  },
  {
   "cell_type": "code",
   "execution_count": 8,
   "metadata": {
    "scrolled": true
   },
   "outputs": [
    {
     "data": {
      "image/png": "[encoded data removed]",
      "text/plain": [
       "<Figure size 432x288 with 1 Axes>"
      ]
     },
     "metadata": {
      "needs_background": "light"
     },
     "output_type": "display_data"
    }
   ],
   "source": [
    "#we have target /output : Customer_Segment  which want to predict\n",
    "#How many category in Customer_Segment \n",
    "#visualize Customer_Segment\n",
    "sns.countplot(data=df,x=\"Customer_Segment\")\n",
    "c=df[\"Customer_Segment\"].value_counts()\n",
    "plt.yticks(c)\n",
    "plt.show()"
   ]
  },
  {
   "cell_type": "code",
   "execution_count": 9,
   "metadata": {
    "scrolled": true
   },
   "outputs": [],
   "source": [
    "#Separate X input and Y output from dataset df\n",
    "X=df.drop(\"Customer_Segment\",axis=1)\n",
    "Y=df[\"Customer_Segment\"]"
   ]
  },
  {
   "cell_type": "code",
   "execution_count": 10,
   "metadata": {
    "scrolled": true
   },
   "outputs": [],
   "source": [
    "from sklearn.model_selection import train_test_split"
   ]
  },
  {
   "cell_type": "code",
   "execution_count": 11,
   "metadata": {
    "scrolled": true
   },
   "outputs": [],
   "source": [
    "X_train,X_test,Y_train,Y_test = train_test_split(X,Y,test_size=0.3,random_state=1)"
   ]
  },
  {
   "cell_type": "code",
   "execution_count": 13,
   "metadata": {
    "scrolled": true
   },
   "outputs": [],
   "source": [
    "#Feature extraction technique (PCA) : Principal Component analysis\n",
    "#1. Standardization\n",
    "#inbuilt class StandardScaler  use formula Z-score = (Xi-mean of(X))/std(X)\n",
    "\n",
    "from sklearn.preprocessing import StandardScaler"
   ]
  },
  {
   "cell_type": "code",
   "execution_count": 16,
   "metadata": {
    "scrolled": true
   },
   "outputs": [
    {
     "name": "stdout",
     "output_type": "stream",
     "text": [
      "After scaling training data : \n",
      "[[-1.10453814 -0.53090202 -0.13625741 ...  0.51645351 -0.4182397\n",
      "  -0.8519466 ]\n",
      " [-0.60884898 -0.79223988 -0.57322083 ...  0.85655034  0.07607378\n",
      "   0.73976188]\n",
      " [ 1.17054803 -0.47189024  1.61159627 ...  1.23915929  1.13335541\n",
      "   0.66313697]\n",
      " ...\n",
      " [ 0.68756884 -0.67421633 -0.42756636 ...  0.09133246  0.28203774\n",
      "  -0.87981021]\n",
      " [-0.02418996  0.29526283  1.24746009 ... -0.80142174 -0.36331598\n",
      "  -0.43399251]\n",
      " [ 0.12832978 -0.68264658  0.70125581 ...  0.68650193 -0.08869738\n",
      "   1.3248976 ]]\n",
      "After scaling testing data : \n",
      "[[ 0.94176842  0.67462425  0.66484219  0.09638535  0.66003794 -0.6493993\n",
      "  -1.39119415  1.09918838 -1.26802979  0.38990328  0.00630825 -1.03613156\n",
      "  -0.15535646]\n",
      " [-0.67239887 -0.7163676  -0.60963445  0.88062311  0.73519378 -0.3776237\n",
      "   0.14995588 -0.23626156  0.1085473  -1.21734921  0.4314293   0.52919448\n",
      "  -1.32214495]\n",
      " [ 0.87821852  0.53974019  0.73766943 -1.40935114  1.33644046  0.74145233\n",
      "   1.09680622 -1.65517712  0.19352119  0.06172083  0.00630825  1.07843169\n",
      "   0.41933041]\n",
      " [-0.93930842 -1.07043825 -2.21183366 -0.90743898  3.96689471 -0.6174257\n",
      "  -0.66594708 -1.90557398  1.62108262 -0.8849593   1.3666956   0.68023471\n",
      "  -0.02300433]\n",
      " [ 1.04344824 -0.47189024  1.17463285 -0.81333045  1.26128463  1.22105634\n",
      "   0.8550572   0.18106655  0.22751075  0.5666169   0.72901403  0.48800169\n",
      "   2.2652943 ]\n",
      " [ 0.68756884  0.95282261 -0.60963445 -0.0604622  -0.76792293 -0.98512211\n",
      "  -1.47177715  1.76691335 -1.13207156  0.31416887 -0.63137332 -1.03613156\n",
      "  -0.50365153]\n",
      " [-1.51125746  0.18566954  2.04855969  0.09638535  0.3594146  -0.77729371\n",
      "   0.08951862  1.93384459 -0.84316032 -0.48524991  1.15413508 -0.10242831\n",
      "  -0.40961186]\n",
      " [ 1.81875694 -0.497181    0.0822243  -2.41317547  0.28425877  1.70066035\n",
      "   1.71125166 -0.65358966  2.40284244  1.07151297  1.02659876  0.5841182\n",
      "   2.86436183]\n",
      " [-0.74865874  1.1551487   0.0822243   0.41008045 -0.76792293  0.10198032\n",
      "  -1.02857061  1.09918838 -0.8601551   1.13462498 -1.69417595 -1.36567389\n",
      "  -0.71262857]\n",
      " [-0.29109951 -0.59834405 -0.28191188  0.88062311 -1.06854627 -1.36880532\n",
      "  -0.18244903  0.93225714  0.14253686 -0.69562327 -0.33378859 -0.21227575\n",
      "  -0.824083  ]\n",
      " [ 1.4882975  -0.82596089 -0.13625741 -0.90743898 -0.24183208 -0.05788769\n",
      "   0.49243366 -0.90398653  0.04056818  0.01964616  0.89906245  0.33696146\n",
      "   1.93441398]\n",
      " [ 0.36981938  0.10979725  1.8664916   0.41008045  1.48675213  0.90132033\n",
      "   0.75432844  0.18106655  0.46543765 -0.26646161  0.34640509  0.48800169\n",
      "   0.03620583]\n",
      " [-0.92659844 -0.98613571 -1.51997491 -0.21730975 -0.46729959  0.19790112\n",
      "   0.0995915   0.18106655  0.9073019  -0.9480713  -0.4188128   0.61158006\n",
      "  -1.43708232]\n",
      " [ 1.18325801 -0.4803205   0.84691029 -1.47209017  0.20910293  1.62072635\n",
      "   1.63066865 -1.65517712  0.26150031  0.20056725 -0.33378859  1.35305029\n",
      "   1.2900681 ]\n",
      " [-1.40957763 -1.32334586  0.81049667 -0.53100486 -0.31698792 -0.05788769\n",
      "   0.27083039 -1.23784901  1.36616093 -0.80080995 -0.71639753  0.69396564\n",
      "  -0.71262857]\n",
      " [-1.95610671 -1.44979966  0.51918772  0.41008045 -0.76792293  0.38974272\n",
      "   0.06937287  0.43146341 -0.18036394 -0.78818755  0.60147772 -0.36331598\n",
      "  -1.01216233]\n",
      " [ 0.20458966 -0.47189024  1.42952818  1.82170842  1.33644046 -0.05788769\n",
      "  -0.66594708 -0.90398653  0.0235734   0.90321428 -1.48161542 -1.70894714\n",
      "  -1.04350889]\n",
      " [ 0.67485886 -0.54776253  0.19146515  0.2532329   0.13394709  0.74145233\n",
      "   1.04644184 -0.90398653  0.53341677  0.06172083  0.34640509  1.22947192\n",
      "   0.68055172]\n",
      " [-0.67239887  0.07607624 -0.3183255   0.72377556 -0.61761126 -0.88920131\n",
      "  -0.10186602  2.43463832 -0.2143535  -0.9480713  -0.4188128   0.99604611\n",
      "  -1.42663347]\n",
      " [ 0.80195865 -0.67421633  0.00939706 -0.18594024  0.58488211  0.99724114\n",
      "   1.25797224 -1.23784901  0.68636978  0.81906494  0.55896561  0.41934704\n",
      "   2.7529074 ]\n",
      " [ 1.11970812 -0.68264658  0.8833239  -0.78196094 -0.31698792  0.34178232\n",
      "   1.05651472 -1.23784901  1.26419226  0.2720942   1.19664718  1.09216262\n",
      "   1.88216972]\n",
      " [-0.65968889 -0.78380963 -0.24549827  0.566928   -0.9182346   0.80539953\n",
      "   1.21768073  0.18106655  0.38046376 -0.42634537 -1.14151858  0.36442332\n",
      "  -1.29776429]\n",
      " [-0.11315981 -0.93555419 -0.13625741 -0.53100486  1.78737548 -1.16097692\n",
      "  -0.6961657  -1.32131463 -1.03010289 -0.35902589 -0.84393385 -1.76387087\n",
      "  -0.32950399]\n",
      " [ 0.05206991 -0.66578608  0.8833239   3.23333638  3.06502468  1.70066035\n",
      "   0.95578596 -1.32131463  0.70336456 -0.67458593  1.49423192  1.27066471\n",
      "   0.90694352]\n",
      " [ 0.77653869 -0.63206506 -0.17267103 -1.09565604  1.4115963   1.46085835\n",
      "   1.358701   -0.23626156  1.34916615  0.49508996 -0.03620386  1.10589355\n",
      "   0.24518288]\n",
      " [-0.12586979  0.6830545   0.81049667  0.72377556  0.58488211 -0.93716171\n",
      "  -1.35090264  1.93384459 -0.99611333  0.26367926 -0.3763007  -0.63793459\n",
      "  -0.53848104]\n",
      " [ 1.20867797 -0.65735582 -0.86452978 -1.15839506  0.20910293  1.38092435\n",
      "   1.45942976 -1.32131463  1.00927058  0.48246756 -0.20625228  1.0372389\n",
      "   0.90694352]\n",
      " [ 1.36119771 -0.65735582 -0.53680721 -1.15839506 -0.16667625  0.66151833\n",
      "   0.3917049  -0.90398653  0.73735412 -0.10657786  0.34640509  1.39424308\n",
      "   1.08109105]\n",
      " [ 1.71707711 -0.45502974  1.32028733  0.09638535  1.6370638   0.90132033\n",
      "   1.20760786 -0.31972718  0.72035934  0.52454223  0.4739414   0.10353564\n",
      "   1.93441398]\n",
      " [-0.10044983  1.81270848  0.44636048  0.566928   -0.9182346  -0.85722771\n",
      "  -1.30053826  0.84879152 -1.16606112  1.13462498 -1.77920016 -0.98120784\n",
      "  -0.34691875]\n",
      " [-0.83762859 -0.88497267 -1.37432044 -1.15839506 -0.99339044  0.50165032\n",
      "   0.56294379 -0.65358966  0.38046376 -0.86392196  1.15413508  0.22711401\n",
      "  -1.03306004]\n",
      " [ 0.67485886 -0.66578608  1.02897838  0.88062311 -0.6927671   0.58158433\n",
      "  -0.84725884  1.26611962  1.26419226  2.85968655 -1.65166384 -1.09105528\n",
      "  -0.3643335 ]\n",
      " [-0.20212966  0.17723928  0.44636048  0.72377556  1.03581712 -1.20893732\n",
      "  -0.58536407 -1.07091777 -0.48626996  2.45997716 -2.03427278 -1.51671412\n",
      "  -0.8519466 ]\n",
      " [ 1.58997732 -0.58991379  0.33711963 -1.40935114  1.03581712  1.65269995\n",
      "   1.45942976 -0.23626156  0.72035934  0.75595293  0.38891719  0.37815425\n",
      "   2.5265156 ]\n",
      " [-1.90526679 -0.05037756  0.22787877  0.09638535 -0.16667625  1.06118834\n",
      "   0.8550572  -0.4031928   0.48243243 -0.71666061 -0.67388543  1.11962448\n",
      "  -0.34691875]\n",
      " [-1.68919716 -0.39601796 -0.28191188 -0.53100486 -0.01636458  1.25302994\n",
      "   0.32119477 -1.65517712 -0.33331695 -0.71666061  0.85655034  0.52919448\n",
      "  -1.32214495]\n",
      " [-1.20621797 -0.80067013  0.22787877  0.72377556 -0.9182346  -1.25689772\n",
      "  -0.6961657   1.09918838  0.14253686 -0.56939925  0.38891719  0.10353564\n",
      "  -0.95643512]\n",
      " [-0.29109951 -0.54776253 -0.57322083 -0.28004877 -0.9182346  -0.05788769\n",
      "   0.59316242 -0.90398653  0.38046376 -0.44317524  0.85655034  0.77635122\n",
      "  -0.03693613]\n",
      " [-1.10453814 -0.90183318  0.51918772  0.88062311 -1.06854627  0.51763713\n",
      "   0.3514134   0.51492903 -0.8601551  -0.86392196 -0.12122807  0.84500587\n",
      "  -1.18282692]\n",
      " [ 1.46287754 -0.3707272   0.15505154 -0.28004877  0.3594146   0.82138633\n",
      "   0.98600459 -0.4031928   1.41714527  0.52454223  0.4739414   0.24084495\n",
      "   1.16816482]\n",
      " [ 1.00531831 -0.66578608 -0.39115274 -1.03291702  1.48675213  0.58158433\n",
      "   0.96585883 -1.32131463  0.12554208  0.37728088 -0.16374017  0.8587368\n",
      "   1.16816482]\n",
      " [-0.73594876 -1.28119459 -3.63196478 -2.85234862 -0.76792293 -0.4095973\n",
      "  -1.38112127 -0.73705528 -1.91383139 -1.26363135  0.38891719 -1.03613156\n",
      "  -0.71262857]\n",
      " [ 0.99260833  1.60195214 -0.35473912  0.88062311 -0.76792293 -1.52867332\n",
      "  -1.48185003  1.26611962 -0.67321253  0.70125585 -0.75890964 -1.13224808\n",
      "  -0.71262857]\n",
      " [ 1.61539728  1.29003276  0.55560134 -2.03674135  2.23831049  1.22105634\n",
      "   1.1068791  -1.40478025  0.9073019   0.06172083 -0.29127649  1.3118575\n",
      "   0.1232796 ]\n",
      " [ 1.61539728 -0.64049532 -0.20908465 -1.06428653  1.48675213  1.54079235\n",
      "   1.06658759 -0.90398653  0.82232801  0.60027664 -0.07871596  1.00977704\n",
      "   0.85469926]\n",
      " [ 0.12832978 -0.58148354 -0.93735702 -0.84469996  0.66003794  1.22105634\n",
      "   1.06658759 -0.73705528  0.82232801  0.03647603 -0.33378859  1.06470076\n",
      "   0.55864844]\n",
      " [-0.78678868 -1.23904332 -1.48356129 -1.53482919  2.83955717 -0.5374917\n",
      "  -0.09179314 -0.15279594  2.06294687 -0.6535486   0.4314293  -0.36331598\n",
      "   0.0884501 ]\n",
      " [ 1.03073827 -0.78380963  1.24746009 -0.0604622   2.53893383  1.14112234\n",
      "   0.80469282  1.09918838 -0.33331695  0.18794485  1.23915929  0.5841182\n",
      "   1.7776812 ]\n",
      " [ 1.57726735 -0.7332281   0.44636048 -1.00154751  0.73519378  1.70066035\n",
      "   2.00336506 -0.4031928   0.53341677  1.57640904  1.15413508  0.33696146\n",
      "   3.32759427]\n",
      " [ 0.97989835 -0.86811216  0.51918772 -0.93880849  0.73519378  1.86052836\n",
      "   1.74147029 -1.48824587  0.83932279  0.77699026 -0.29127649  0.40561611\n",
      "   1.95182873]\n",
      " [-1.47312752 -0.27799441  1.53876904  2.76279373 -0.46729959 -0.16979529\n",
      "   0.30104902  1.76691335  0.36346898 -0.82184729  0.04882035 -0.18481389\n",
      "  -0.90070791]\n",
      " [ 1.53913741  0.04235523  0.44636048  0.09638535 -0.54245543 -0.88920131\n",
      "  -1.25017388  0.59839465 -0.52025952  1.99715576 -1.43910332 -1.1871718\n",
      "  -0.22501547]\n",
      " [ 0.47149921  0.65776374  0.0822243   0.566928   -0.46729959 -0.4895313\n",
      "  -1.18973663  0.68186028 -0.50326474  1.45859996 -1.73668805 -1.31075017\n",
      "  -0.25984498]\n",
      " [ 1.01802829 -0.61520455  0.19146515 -1.15839506 -0.6927671   0.58158433\n",
      "   0.82483857 -0.65358966  0.44844287  0.2720942   0.81403824  0.4468089\n",
      "   2.07373201]]\n"
     ]
    }
   ],
   "source": [
    "#fit_transform on training data X_train and transform on testing_data means X_test :\n",
    "#create object of StandardScaler class\n",
    "ss=StandardScaler()\n",
    "X_train=ss.fit_transform(X_train)\n",
    "X_test=ss.transform(X_test)\n",
    "print(\"After scaling training data : \")\n",
    "print(X_train)\n",
    "print(\"After scaling testing data : \")\n",
    "print(X_test)"
   ]
  },
  {
   "cell_type": "code",
   "execution_count": 17,
   "metadata": {
    "scrolled": true
   },
   "outputs": [],
   "source": [
    "#Apply PCA\n",
    "from sklearn.decomposition import PCA\n"
   ]
  },
  {
   "cell_type": "code",
   "execution_count": 18,
   "metadata": {
    "scrolled": true
   },
   "outputs": [],
   "source": [
    "#Create object of PCA class\n",
    "pc=PCA(n_components=None,random_state=1)  \n",
    "#n_components  inbuilt parameters ,here  pass no. of components means PC here total input 13 features\n",
    "#input features"
   ]
  },
  {
   "cell_type": "code",
   "execution_count": 19,
   "metadata": {
    "scrolled": true
   },
   "outputs": [],
   "source": [
    "X_train_pc=pc.fit_transform(X_train) #for training\n",
    "X_test_pc=pc.transform(X_test) #for testing"
   ]
  },
  {
   "cell_type": "code",
   "execution_count": 20,
   "metadata": {
    "scrolled": true
   },
   "outputs": [
    {
     "name": "stdout",
     "output_type": "stream",
     "text": [
      "[0.35168281 0.19739103 0.11318949 0.07729222 0.06125164 0.05129145\n",
      " 0.04229866 0.02624925 0.02426134 0.01824268 0.01580332 0.01324335\n",
      " 0.00780277]\n"
     ]
    }
   ],
   "source": [
    "explain_variance=pc.explained_variance_ratio_\n",
    "print(explain_variance) #automatic arrange variance in descending order"
   ]
  },
  {
   "cell_type": "code",
   "execution_count": 21,
   "metadata": {
    "scrolled": true
   },
   "outputs": [],
   "source": [
    "#Create object of PCA class\n",
    "pc1=PCA(n_components=2,random_state=1)  \n",
    "#n_components  inbuilt parameters ,here  pass no. of components =2 means PC here total input 13 features\n",
    "#input features"
   ]
  },
  {
   "cell_type": "code",
   "execution_count": 22,
   "metadata": {
    "scrolled": true
   },
   "outputs": [],
   "source": [
    "X_train_pc1=pc1.fit_transform(X_train) #for training\n",
    "X_test_pc1=pc1.transform(X_test) #for testing"
   ]
  },
  {
   "cell_type": "code",
   "execution_count": 23,
   "metadata": {
    "scrolled": true
   },
   "outputs": [
    {
     "name": "stdout",
     "output_type": "stream",
     "text": [
      "[0.35168281 0.19739103]\n",
      "[0.35168281 0.19739103]\n"
     ]
    }
   ],
   "source": [
    "explain_variance=pc1.explained_variance_ratio_\n",
    "print(explain_variance) #automatic arrange variancexplain_variance=pc1.explained_variance_ratio_\n",
    "print(explain_variance) #automatic arrange variance in descending ordere in descending order"
   ]
  },
  {
   "cell_type": "code",
   "execution_count": 24,
   "metadata": {
    "scrolled": false
   },
   "outputs": [
    {
     "data": {
      "text/plain": [
       "array([[ 0.95748971,  2.17579819],\n",
       "       [-2.55013055, -1.09031172],\n",
       "       [-2.32213284, -1.14232714],\n",
       "       [-1.39659962,  1.40055044],\n",
       "       [ 2.88922419, -0.10928569],\n",
       "       [-2.59147207,  1.7259757 ],\n",
       "       [ 0.10179039,  0.74634603],\n",
       "       [-1.93544012, -2.07815596],\n",
       "       [ 2.88140885, -1.20498819],\n",
       "       [ 0.09058153,  2.65370284],\n",
       "       [ 2.96437173,  0.50462603],\n",
       "       [-3.55535676, -1.56919151],\n",
       "       [-0.0239897 ,  2.15555787],\n",
       "       [-1.22540936, -2.07333402],\n",
       "       [-1.1665625 ,  2.20166638],\n",
       "       [-1.52974106, -1.04134747],\n",
       "       [ 3.53032658, -0.38641899],\n",
       "       [ 2.43739324, -2.40183577],\n",
       "       [ 2.17692392, -1.96642054],\n",
       "       [ 2.72763364, -2.6090008 ],\n",
       "       [ 2.06786209,  1.55631109],\n",
       "       [ 0.48691891,  2.41775015],\n",
       "       [-1.30643481, -0.48402511],\n",
       "       [ 3.27981637, -1.83555644],\n",
       "       [-2.64344105, -1.46884449],\n",
       "       [ 1.33444043,  0.77303205],\n",
       "       [ 2.44512858, -0.57746731],\n",
       "       [-2.54518425, -1.61133618],\n",
       "       [-1.11439927,  1.75773838],\n",
       "       [-3.3146646 , -2.13760804],\n",
       "       [ 3.63202004,  0.19513388],\n",
       "       [ 1.14973479,  1.28330404],\n",
       "       [-1.15195016,  0.5233831 ],\n",
       "       [-2.51580249, -1.84157458],\n",
       "       [-1.81293076,  1.99031989],\n",
       "       [ 0.72060384,  1.79316712],\n",
       "       [-0.1678108 ,  1.04214053],\n",
       "       [-2.85326047, -1.5822152 ],\n",
       "       [-0.30056845,  1.14301423],\n",
       "       [-2.15068211,  0.88998197],\n",
       "       [ 1.60598051,  1.68326135],\n",
       "       [ 2.4343091 , -2.26117998],\n",
       "       [-0.18141618,  2.72066699],\n",
       "       [ 0.12572403,  2.18400347],\n",
       "       [-0.32475899,  2.0806571 ],\n",
       "       [-1.74501467,  1.14665456],\n",
       "       [-3.55607126, -1.88729247],\n",
       "       [-1.53830812, -1.12692893],\n",
       "       [-1.79325359, -0.45339749],\n",
       "       [ 2.4611384 , -0.4594452 ],\n",
       "       [-1.75864669,  0.42887441],\n",
       "       [ 2.28772939,  0.35215559],\n",
       "       [ 2.62726481, -0.27142367],\n",
       "       [ 3.20318648, -2.3978135 ],\n",
       "       [-1.45461881, -0.23120583],\n",
       "       [-1.17769111,  2.15084701],\n",
       "       [-1.90356399,  0.15132476],\n",
       "       [ 0.22052936,  2.67896201],\n",
       "       [-0.58933648,  2.40319915],\n",
       "       [-2.87341456, -1.17797287],\n",
       "       [ 2.34937959, -2.2619695 ],\n",
       "       [-0.77007732,  1.95092771],\n",
       "       [ 0.86510315,  0.64090017],\n",
       "       [ 2.75233264, -0.05397286],\n",
       "       [ 2.74467741, -1.83512621],\n",
       "       [ 0.148051  ,  2.26015463],\n",
       "       [-2.59839433,  1.17788988],\n",
       "       [-0.12515013,  1.92048953],\n",
       "       [ 2.80155224, -0.89119876],\n",
       "       [ 1.18749395, -3.36196766],\n",
       "       [ 0.28205424,  1.76564661],\n",
       "       [-2.3559891 , -2.14032033],\n",
       "       [ 0.07653132,  2.32004637],\n",
       "       [-0.92000075, -0.29593195],\n",
       "       [ 2.15117077, -0.23908322],\n",
       "       [-1.9254973 ,  1.12311807],\n",
       "       [-1.22431283,  3.2267119 ],\n",
       "       [-3.57268687, -2.15063944],\n",
       "       [-1.96295412, -1.0261166 ],\n",
       "       [-0.70355541,  2.1049452 ],\n",
       "       [-0.67809497, -0.46777391],\n",
       "       [-1.99297874, -0.04704058],\n",
       "       [-3.72577403, -3.35757056],\n",
       "       [ 2.86899457, -1.79247767],\n",
       "       [-2.72626306, -2.18873632],\n",
       "       [ 2.20279245, -0.22812917],\n",
       "       [ 2.35533387, -2.41124479],\n",
       "       [-2.59307627, -1.70252307],\n",
       "       [-1.54420824, -0.62792265],\n",
       "       [-0.99742815,  3.70324725],\n",
       "       [ 3.49507935, -1.39823299],\n",
       "       [-2.60987135, -1.29309168],\n",
       "       [ 1.24864283,  1.3114018 ],\n",
       "       [ 0.11104765,  1.88996662],\n",
       "       [-2.44252084, -0.0706138 ],\n",
       "       [-2.30405281, -1.61856501],\n",
       "       [-2.73336925, -0.3893117 ],\n",
       "       [ 1.59688153,  0.91962861],\n",
       "       [-2.42636857,  1.7246918 ],\n",
       "       [-2.09707814, -2.18272247],\n",
       "       [ 2.52658209, -1.55747297],\n",
       "       [ 2.09558233, -0.21889042],\n",
       "       [ 0.43428888,  2.1741191 ],\n",
       "       [ 0.37098198, -0.01384105],\n",
       "       [ 0.62744409,  0.02263749],\n",
       "       [-3.38948635, -0.55073962],\n",
       "       [ 2.80180337, -0.30330492],\n",
       "       [ 3.26903569, -1.08322923],\n",
       "       [ 2.81371958, -1.51344476],\n",
       "       [ 2.17504192, -0.18827911],\n",
       "       [ 4.05349736, -0.09564359],\n",
       "       [ 0.1876799 ,  2.21698481],\n",
       "       [-3.17507925, -1.39565045],\n",
       "       [-1.08612668, -1.43721279],\n",
       "       [ 2.1288066 ,  0.64103682],\n",
       "       [-1.94460331,  0.75301732],\n",
       "       [ 1.38776999,  1.33881474],\n",
       "       [ 2.10023136, -1.06736091],\n",
       "       [-0.69318151,  0.86892891],\n",
       "       [ 1.94460286, -0.24505848],\n",
       "       [ 3.70719644, -0.29192086],\n",
       "       [ 0.43925993,  1.07497032],\n",
       "       [ 2.57691691, -0.14219769],\n",
       "       [-1.32885281, -0.42594711]])"
      ]
     },
     "execution_count": 24,
     "metadata": {},
     "output_type": "execute_result"
    }
   ],
   "source": [
    "X_train_pc1"
   ]
  },
  {
   "cell_type": "code",
   "execution_count": 25,
   "metadata": {
    "scrolled": true
   },
   "outputs": [],
   "source": [
    "#BaseLine Model Logistic regression because we have  classification type dataset\n",
    "#classification algorithm \n",
    "#use logistic regression algorithm\n",
    "from sklearn.linear_model import LogisticRegression\n",
    "\n",
    "#create the object of LogisticRegression\n",
    "lr=LogisticRegression()"
   ]
  },
  {
   "cell_type": "code",
   "execution_count": 26,
   "metadata": {},
   "outputs": [
    {
     "data": {
      "text/plain": [
       "LogisticRegression(C=1.0, class_weight=None, dual=False, fit_intercept=True,\n",
       "                   intercept_scaling=1, l1_ratio=None, max_iter=100,\n",
       "                   multi_class='auto', n_jobs=None, penalty='l2',\n",
       "                   random_state=None, solver='lbfgs', tol=0.0001, verbose=0,\n",
       "                   warm_start=False)"
      ]
     },
     "execution_count": 26,
     "metadata": {},
     "output_type": "execute_result"
    }
   ],
   "source": [
    "#Train the model then inbuilt function fit() of LogisticRegression class\n",
    "lr.fit(X_train_pc1,Y_train)   #same as linearregression\n"
   ]
  },
  {
   "cell_type": "code",
   "execution_count": 27,
   "metadata": {},
   "outputs": [],
   "source": [
    "#test the model\n",
    "Y_pred=lr.predict(X_test_pc1)"
   ]
  },
  {
   "cell_type": "code",
   "execution_count": 28,
   "metadata": {},
   "outputs": [
    {
     "name": "stdout",
     "output_type": "stream",
     "text": [
      "              precision    recall  f1-score   support\n",
      "\n",
      "           1       0.96      1.00      0.98        23\n",
      "           2       1.00      0.95      0.97        19\n",
      "           3       1.00      1.00      1.00        12\n",
      "\n",
      "    accuracy                           0.98        54\n",
      "   macro avg       0.99      0.98      0.98        54\n",
      "weighted avg       0.98      0.98      0.98        54\n",
      "\n",
      "Confusion Matrix : \n",
      "[[23  0  0]\n",
      " [ 1 18  0]\n",
      " [ 0  0 12]]\n"
     ]
    }
   ],
   "source": [
    "from sklearn.metrics import confusion_matrix\n",
    "from sklearn.metrics import classification_report\n",
    "\n",
    "print(classification_report(Y_test,Y_pred))\n",
    "\n",
    "print(\"Confusion Matrix : \")\n",
    "#Confusion matrix\n",
    "print(confusion_matrix(Y_test,Y_pred))"
   ]
  },
  {
   "cell_type": "code",
   "execution_count": 29,
   "metadata": {},
   "outputs": [
    {
     "data": {
      "image/png": "[encoded data removed]",
      "text/plain": [
       "<Figure size 576x432 with 1 Axes>"
      ]
     },
     "metadata": {
      "needs_background": "light"
     },
     "output_type": "display_data"
    }
   ],
   "source": [
    "# giving a scatter plot\n",
    "plt.figure(figsize =(8, 6))\n",
    "y=Y_test\n",
    "X1=X_test_pc1[:, 0]\n",
    "X2=X_test_pc1[:, 1]\n",
    "plt.scatter(X1,X2,c=y)#c means color\n",
    "\n",
    "# labeling x and y axes\n",
    "plt.xlabel('First Principal Component')\n",
    "plt.ylabel('Second Principal Component')\n",
    "plt.show()"
   ]
  },
  {
   "cell_type": "code",
   "execution_count": null,
   "metadata": {},
   "outputs": [],
   "source": []
  }
 ],
 "metadata": {
  "kernelspec": {
   "display_name": "Python 3",
   "language": "python",
   "name": "python3"
  },
  "language_info": {
   "codemirror_mode": {
    "name": "ipython",
    "version": 3
   },
   "file_extension": ".py",
   "mimetype": "text/x-python",
   "name": "python",
   "nbconvert_exporter": "python",
   "pygments_lexer": "ipython3",
   "version": "3.7.6"
  }
 },
 "nbformat": 4,
 "nbformat_minor": 4
}
