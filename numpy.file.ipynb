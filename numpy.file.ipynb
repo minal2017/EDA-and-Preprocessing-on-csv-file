{
 "cells": [
  {
   "cell_type": "code",
   "execution_count": 1,
   "metadata": {},
   "outputs": [],
   "source": [
    "import numpy as np"
   ]
  },
  {
   "cell_type": "code",
   "execution_count": 2,
   "metadata": {},
   "outputs": [],
   "source": [
    "#numpy :  single dimensional array means 1 D array use np.array([])\n",
    "#we create a single dimensional array \n",
    "#numpy array means aollection of similar type of data \n",
    "#in 1D array , many rows means many records but only one column\n",
    "A=np.array([67,89,90,56,76,54,98,79,48])"
   ]
  },
  {
   "cell_type": "code",
   "execution_count": 3,
   "metadata": {},
   "outputs": [
    {
     "name": "stdout",
     "output_type": "stream",
     "text": [
      "[67 89 90 56 76 54 98 79 48]\n"
     ]
    }
   ],
   "source": [
    "print(A)\n"
   ]
  },
  {
   "cell_type": "code",
   "execution_count": 4,
   "metadata": {},
   "outputs": [
    {
     "name": "stdout",
     "output_type": "stream",
     "text": [
      "[67 89 90 56 76 54 98 79 48]\n"
     ]
    }
   ],
   "source": [
    "print(A)"
   ]
  },
  {
   "cell_type": "code",
   "execution_count": 5,
   "metadata": {},
   "outputs": [
    {
     "name": "stdout",
     "output_type": "stream",
     "text": [
      "[67 89 90 56 76 54 98 79 48]\n"
     ]
    }
   ],
   "source": [
    "print(A)"
   ]
  },
  {
   "cell_type": "code",
   "execution_count": 6,
   "metadata": {},
   "outputs": [
    {
     "name": "stdout",
     "output_type": "stream",
     "text": [
      "[67 89 90 56 76 54 98 79 48]\n"
     ]
    }
   ],
   "source": [
    "A=np.array([67,89,90,56,76,54,98,79,48])\n",
    "print(A)"
   ]
  },
  {
   "cell_type": "code",
   "execution_count": 7,
   "metadata": {},
   "outputs": [
    {
     "data": {
      "text/plain": [
       "76"
      ]
     },
     "execution_count": 7,
     "metadata": {},
     "output_type": "execute_result"
    }
   ],
   "source": [
    "A[4]#access value from 4th index"
   ]
  },
  {
   "cell_type": "code",
   "execution_count": 8,
   "metadata": {},
   "outputs": [
    {
     "data": {
      "text/plain": [
       "array([56, 76, 54, 98])"
      ]
     },
     "execution_count": 8,
     "metadata": {},
     "output_type": "execute_result"
    }
   ],
   "source": [
    "#Access value from 3rd index to 6th index one by one then use slicing :\n",
    "A[3:7] #here start=3rd index and stop=7-1=6th index and step=+1"
   ]
  },
  {
   "cell_type": "code",
   "execution_count": 9,
   "metadata": {},
   "outputs": [],
   "source": [
    "#property of 1D array \n",
    "#1. dtype : to show datatype of numpy array A\n",
    "#2. shaoe : to show How many rows and columns\n",
    "#3. size :  to show no. of elements in 1D array\n",
    "#itemsize : to show how much occupy memory by each elements of array\n",
    "#nbytes : to show total memory occupiesd by Array A in RAM"
   ]
  },
  {
   "cell_type": "code",
   "execution_count": 10,
   "metadata": {},
   "outputs": [
    {
     "data": {
      "text/plain": [
       "dtype('int32')"
      ]
     },
     "execution_count": 10,
     "metadata": {},
     "output_type": "execute_result"
    }
   ],
   "source": [
    "A.dtype"
   ]
  },
  {
   "cell_type": "code",
   "execution_count": 11,
   "metadata": {},
   "outputs": [
    {
     "data": {
      "text/plain": [
       "(9,)"
      ]
     },
     "execution_count": 11,
     "metadata": {},
     "output_type": "execute_result"
    }
   ],
   "source": [
    "A.shape   #(9,)means 9 records and 1 columns"
   ]
  },
  {
   "cell_type": "code",
   "execution_count": 12,
   "metadata": {},
   "outputs": [
    {
     "data": {
      "text/plain": [
       "9"
      ]
     },
     "execution_count": 12,
     "metadata": {},
     "output_type": "execute_result"
    }
   ],
   "source": [
    "A.size  \n",
    "#1 byte=8 bits  bits means 0 & 1\n",
    "#int : each int element occupy  4 bytes memory in ram means 4*8=32 bits"
   ]
  },
  {
   "cell_type": "code",
   "execution_count": 13,
   "metadata": {},
   "outputs": [
    {
     "data": {
      "text/plain": [
       "4"
      ]
     },
     "execution_count": 13,
     "metadata": {},
     "output_type": "execute_result"
    }
   ],
   "source": [
    "A.itemsize"
   ]
  },
  {
   "cell_type": "code",
   "execution_count": 14,
   "metadata": {},
   "outputs": [
    {
     "data": {
      "text/plain": [
       "36"
      ]
     },
     "execution_count": 14,
     "metadata": {},
     "output_type": "execute_result"
    }
   ],
   "source": [
    "A.nbytes  #nbytes means no. of bytes"
   ]
  },
  {
   "cell_type": "code",
   "execution_count": 15,
   "metadata": {},
   "outputs": [
    {
     "data": {
      "text/plain": [
       "numpy.ndarray"
      ]
     },
     "execution_count": 15,
     "metadata": {},
     "output_type": "execute_result"
    }
   ],
   "source": [
    "type(A)# To show Which type of VAriable A  ndarray means no. of dimension "
   ]
  },
  {
   "cell_type": "code",
   "execution_count": 16,
   "metadata": {},
   "outputs": [
    {
     "data": {
      "text/plain": [
       "1"
      ]
     },
     "execution_count": 16,
     "metadata": {},
     "output_type": "execute_result"
    }
   ],
   "source": [
    "A.ndim"
   ]
  },
  {
   "cell_type": "code",
   "execution_count": null,
   "metadata": {},
   "outputs": [],
   "source": []
  },
  {
   "cell_type": "code",
   "execution_count": 17,
   "metadata": {},
   "outputs": [
    {
     "data": {
      "text/plain": [
       "1"
      ]
     },
     "execution_count": 17,
     "metadata": {},
     "output_type": "execute_result"
    }
   ],
   "source": [
    "A.ndim#to show one dimensional arrey"
   ]
  },
  {
   "cell_type": "code",
   "execution_count": null,
   "metadata": {},
   "outputs": [],
   "source": []
  },
  {
   "cell_type": "code",
   "execution_count": null,
   "metadata": {},
   "outputs": [],
   "source": []
  },
  {
   "cell_type": "code",
   "execution_count": null,
   "metadata": {},
   "outputs": [],
   "source": []
  },
  {
   "cell_type": "code",
   "execution_count": null,
   "metadata": {},
   "outputs": [],
   "source": []
  },
  {
   "cell_type": "code",
   "execution_count": null,
   "metadata": {},
   "outputs": [],
   "source": []
  },
  {
   "cell_type": "code",
   "execution_count": 18,
   "metadata": {},
   "outputs": [],
   "source": [
    "A=np.array([34,67,89.76,43,82])\n",
    "           "
   ]
  },
  {
   "cell_type": "code",
   "execution_count": 19,
   "metadata": {},
   "outputs": [
    {
     "name": "stdout",
     "output_type": "stream",
     "text": [
      "[34.   67.   89.76 43.   82.  ]\n"
     ]
    }
   ],
   "source": [
    "print(A)"
   ]
  },
  {
   "cell_type": "code",
   "execution_count": 20,
   "metadata": {},
   "outputs": [
    {
     "name": "stdout",
     "output_type": "stream",
     "text": [
      "[34.   67.   89.76 43.   82.  ]\n"
     ]
    }
   ],
   "source": [
    "A=np.array([34,67,89.76,43,82])\n",
    "print(A)"
   ]
  },
  {
   "cell_type": "code",
   "execution_count": 21,
   "metadata": {},
   "outputs": [
    {
     "data": {
      "text/plain": [
       "5"
      ]
     },
     "execution_count": 21,
     "metadata": {},
     "output_type": "execute_result"
    }
   ],
   "source": [
    "A.size"
   ]
  },
  {
   "cell_type": "code",
   "execution_count": 22,
   "metadata": {},
   "outputs": [
    {
     "data": {
      "text/plain": [
       "40"
      ]
     },
     "execution_count": 22,
     "metadata": {},
     "output_type": "execute_result"
    }
   ],
   "source": [
    "A.nbytes"
   ]
  },
  {
   "cell_type": "code",
   "execution_count": 23,
   "metadata": {},
   "outputs": [
    {
     "name": "stdout",
     "output_type": "stream",
     "text": [
      "[34 67 89 43 82]\n"
     ]
    }
   ],
   "source": [
    "A=np.array([34,67,89.76,43,82],int) \n",
    "#forcefully : int (means truncate after decimal)\n",
    "print(A)"
   ]
  },
  {
   "cell_type": "code",
   "execution_count": 24,
   "metadata": {},
   "outputs": [
    {
     "data": {
      "text/plain": [
       "dtype('int32')"
      ]
     },
     "execution_count": 24,
     "metadata": {},
     "output_type": "execute_result"
    }
   ],
   "source": [
    "A.dtype"
   ]
  },
  {
   "cell_type": "code",
   "execution_count": 25,
   "metadata": {},
   "outputs": [
    {
     "name": "stdout",
     "output_type": "stream",
     "text": [
      "[0. 0. 0. 0. 0. 0. 0. 0.]\n"
     ]
    }
   ],
   "source": [
    "#Zeros array : -\n",
    "X=np.zeros(8) #here 8 means no. of elements=8 in array  by default type float\n",
    "print(X)"
   ]
  },
  {
   "cell_type": "code",
   "execution_count": 26,
   "metadata": {},
   "outputs": [
    {
     "name": "stdout",
     "output_type": "stream",
     "text": [
      "[ 0.  0. 67.  0.  0.  0.  0.  0.]\n"
     ]
    }
   ],
   "source": [
    "#Replace value at 2nd index with 67\n",
    "X[2]=67\n",
    "print(X)"
   ]
  },
  {
   "cell_type": "code",
   "execution_count": 27,
   "metadata": {},
   "outputs": [
    {
     "name": "stdout",
     "output_type": "stream",
     "text": [
      "[87.67  0.   67.    0.    0.    0.    0.    0.  ]\n"
     ]
    }
   ],
   "source": [
    "X[0]=87.67\n",
    "print(X)"
   ]
  },
  {
   "cell_type": "code",
   "execution_count": 28,
   "metadata": {},
   "outputs": [
    {
     "name": "stdout",
     "output_type": "stream",
     "text": [
      "[0 0 0 0 0 0 0 0]\n"
     ]
    }
   ],
   "source": [
    "#Zeros array : -\n",
    "X=np.zeros(8,int) #create zeros array with 8 elements but force define type int\n",
    "print(X)"
   ]
  },
  {
   "cell_type": "code",
   "execution_count": 29,
   "metadata": {},
   "outputs": [
    {
     "data": {
      "text/plain": [
       "dtype('int32')"
      ]
     },
     "execution_count": 29,
     "metadata": {},
     "output_type": "execute_result"
    }
   ],
   "source": [
    "X.dtype"
   ]
  },
  {
   "cell_type": "code",
   "execution_count": 30,
   "metadata": {},
   "outputs": [],
   "source": [
    "X[2]=56.9"
   ]
  },
  {
   "cell_type": "code",
   "execution_count": 31,
   "metadata": {},
   "outputs": [
    {
     "name": "stdout",
     "output_type": "stream",
     "text": [
      "[ 0  0 56  0  0  0  0  0]\n"
     ]
    }
   ],
   "source": [
    "print(X)"
   ]
  },
  {
   "cell_type": "code",
   "execution_count": 32,
   "metadata": {},
   "outputs": [],
   "source": [
    "#ones array means fill with value 1\n",
    "A=np.ones(10) #bydefault type float\n"
   ]
  },
  {
   "cell_type": "code",
   "execution_count": 33,
   "metadata": {},
   "outputs": [
    {
     "name": "stdout",
     "output_type": "stream",
     "text": [
      "[1. 1. 1. 1. 1. 1. 1. 1. 1. 1.]\n"
     ]
    }
   ],
   "source": [
    "print(A)"
   ]
  },
  {
   "cell_type": "code",
   "execution_count": 34,
   "metadata": {},
   "outputs": [
    {
     "data": {
      "text/plain": [
       "80"
      ]
     },
     "execution_count": 34,
     "metadata": {},
     "output_type": "execute_result"
    }
   ],
   "source": [
    "A.nbytes#memory occupied  A arrey in ram"
   ]
  },
  {
   "cell_type": "code",
   "execution_count": 35,
   "metadata": {},
   "outputs": [
    {
     "data": {
      "text/plain": [
       "10"
      ]
     },
     "execution_count": 35,
     "metadata": {},
     "output_type": "execute_result"
    }
   ],
   "source": [
    "A.size"
   ]
  },
  {
   "cell_type": "code",
   "execution_count": 36,
   "metadata": {},
   "outputs": [
    {
     "data": {
      "text/plain": [
       "8"
      ]
     },
     "execution_count": 36,
     "metadata": {},
     "output_type": "execute_result"
    }
   ],
   "source": [
    "A.itemsize"
   ]
  },
  {
   "cell_type": "code",
   "execution_count": 37,
   "metadata": {},
   "outputs": [],
   "source": [
    "#Mathmatical operations in 1D array "
   ]
  },
  {
   "cell_type": "code",
   "execution_count": 38,
   "metadata": {},
   "outputs": [],
   "source": [
    "#Mathmatical operations in 1D array \n",
    "A=np.array([34,67,89.76,43,82])"
   ]
  },
  {
   "cell_type": "code",
   "execution_count": 39,
   "metadata": {},
   "outputs": [
    {
     "name": "stdout",
     "output_type": "stream",
     "text": [
      "[34.   67.   89.76 43.   82.  ]\n"
     ]
    }
   ],
   "source": [
    "print(A)"
   ]
  },
  {
   "cell_type": "code",
   "execution_count": 40,
   "metadata": {},
   "outputs": [
    {
     "data": {
      "text/plain": [
       "315.76"
      ]
     },
     "execution_count": 40,
     "metadata": {},
     "output_type": "execute_result"
    }
   ],
   "source": [
    "A.sum()#sum of element in 1d arrey"
   ]
  },
  {
   "cell_type": "code",
   "execution_count": 41,
   "metadata": {},
   "outputs": [
    {
     "data": {
      "text/plain": [
       "63.152"
      ]
     },
     "execution_count": 41,
     "metadata": {},
     "output_type": "execute_result"
    }
   ],
   "source": [
    "A.mean()#sum of element/no. of element"
   ]
  },
  {
   "cell_type": "code",
   "execution_count": 42,
   "metadata": {},
   "outputs": [],
   "source": [
    "#to find max and min num of 1D arrey"
   ]
  },
  {
   "cell_type": "code",
   "execution_count": null,
   "metadata": {},
   "outputs": [],
   "source": []
  },
  {
   "cell_type": "code",
   "execution_count": 43,
   "metadata": {},
   "outputs": [
    {
     "data": {
      "text/plain": [
       "89.76"
      ]
     },
     "execution_count": 43,
     "metadata": {},
     "output_type": "execute_result"
    }
   ],
   "source": [
    "A.max()"
   ]
  },
  {
   "cell_type": "code",
   "execution_count": 44,
   "metadata": {},
   "outputs": [
    {
     "data": {
      "text/plain": [
       "34.0"
      ]
     },
     "execution_count": 44,
     "metadata": {},
     "output_type": "execute_result"
    }
   ],
   "source": [
    "A.min()"
   ]
  },
  {
   "cell_type": "code",
   "execution_count": 45,
   "metadata": {},
   "outputs": [
    {
     "data": {
      "text/plain": [
       "'\\nPython   R   ML\\n 23      32  43\\n 54      89  65\\n 67      87  90\\n 78     38  57\\n'"
      ]
     },
     "execution_count": 45,
     "metadata": {},
     "output_type": "execute_result"
    }
   ],
   "source": [
    "#2D array means Two dimensional Array means many rows means meany records,\n",
    "#and in each row,many columns  means to store data in tabular form\n",
    "#numpy : 2D array create then use [[]]\n",
    "'''\n",
    "Python   R   ML\n",
    " 23      32  43\n",
    " 54      89  65\n",
    " 67      87  90\n",
    " 78     38  57\n",
    "'''"
   ]
  },
  {
   "cell_type": "code",
   "execution_count": 46,
   "metadata": {},
   "outputs": [],
   "source": [
    "A=np.array([[23,32,43],[54,89,65],[67,87,90],[78,38,57]])"
   ]
  },
  {
   "cell_type": "code",
   "execution_count": 47,
   "metadata": {},
   "outputs": [
    {
     "name": "stdout",
     "output_type": "stream",
     "text": [
      "[[23 32 43]\n",
      " [54 89 65]\n",
      " [67 87 90]\n",
      " [78 38 57]]\n"
     ]
    }
   ],
   "source": [
    "print(A)"
   ]
  },
  {
   "cell_type": "code",
   "execution_count": 48,
   "metadata": {},
   "outputs": [
    {
     "data": {
      "text/plain": [
       "2"
      ]
     },
     "execution_count": 48,
     "metadata": {},
     "output_type": "execute_result"
    }
   ],
   "source": [
    "#to show no. of dimension arrey\n",
    "A.ndim"
   ]
  },
  {
   "cell_type": "code",
   "execution_count": 49,
   "metadata": {},
   "outputs": [
    {
     "data": {
      "text/plain": [
       "dtype('int32')"
      ]
     },
     "execution_count": 49,
     "metadata": {},
     "output_type": "execute_result"
    }
   ],
   "source": [
    "A.dtype#"
   ]
  },
  {
   "cell_type": "code",
   "execution_count": 50,
   "metadata": {},
   "outputs": [
    {
     "data": {
      "text/plain": [
       "12"
      ]
     },
     "execution_count": 50,
     "metadata": {},
     "output_type": "execute_result"
    }
   ],
   "source": [
    "A.size#to show no of element in A"
   ]
  },
  {
   "cell_type": "code",
   "execution_count": 51,
   "metadata": {},
   "outputs": [
    {
     "data": {
      "text/plain": [
       "4"
      ]
     },
     "execution_count": 51,
     "metadata": {},
     "output_type": "execute_result"
    }
   ],
   "source": [
    "A.itemsize#to show no. of bytes of each element"
   ]
  },
  {
   "cell_type": "code",
   "execution_count": 52,
   "metadata": {},
   "outputs": [
    {
     "data": {
      "text/plain": [
       "48"
      ]
     },
     "execution_count": 52,
     "metadata": {},
     "output_type": "execute_result"
    }
   ],
   "source": [
    "A.nbytes#to show no.of bytes in ram"
   ]
  },
  {
   "cell_type": "code",
   "execution_count": 53,
   "metadata": {},
   "outputs": [
    {
     "name": "stdout",
     "output_type": "stream",
     "text": [
      "[54 89 65]\n"
     ]
    }
   ],
   "source": [
    "#To show marks of all subjects of 1st index (row)\n",
    "#A[rowindex,colindex]\n",
    "print(A[1, ])"
   ]
  },
  {
   "cell_type": "code",
   "execution_count": 54,
   "metadata": {},
   "outputs": [
    {
     "name": "stdout",
     "output_type": "stream",
     "text": [
      "87\n"
     ]
    }
   ],
   "source": [
    "#To access data at particular row and particular column\\\n",
    "#to access 1st index column of 2nd index row\n",
    "print(A[2,1])"
   ]
  },
  {
   "cell_type": "code",
   "execution_count": 55,
   "metadata": {},
   "outputs": [
    {
     "name": "stdout",
     "output_type": "stream",
     "text": [
      "[32 89 87 38]\n"
     ]
    }
   ],
   "source": [
    "#Access 1st column(1st index) of all students(rows) use slicing\n",
    "#A[allrows,colstart:colstop] A[start index of row:stop index of row ,colindex ]\n",
    "print(A[:,1])"
   ]
  },
  {
   "cell_type": "code",
   "execution_count": 56,
   "metadata": {},
   "outputs": [
    {
     "name": "stdout",
     "output_type": "stream",
     "text": [
      "[43 65 90 57]\n"
     ]
    }
   ],
   "source": [
    "print(A[:,-1])  #access all rows of last column"
   ]
  },
  {
   "cell_type": "code",
   "execution_count": 57,
   "metadata": {},
   "outputs": [
    {
     "name": "stdout",
     "output_type": "stream",
     "text": [
      "[[54 89 65]\n",
      " [67 87 90]\n",
      " [78 38 57]]\n"
     ]
    }
   ],
   "source": [
    "print(A[1:4,:3])  #here row index start=1 and stop=4-1=3 and col start=0 \n",
    "#and stop=3-1=2 means to show 0th col , 1st col and 2nd col of 1st,2nd and 3rd \n",
    "#row index"
   ]
  },
  {
   "cell_type": "code",
   "execution_count": 58,
   "metadata": {},
   "outputs": [
    {
     "data": {
      "text/plain": [
       "723"
      ]
     },
     "execution_count": 58,
     "metadata": {},
     "output_type": "execute_result"
    }
   ],
   "source": [
    "#sum of all elements of 2D array A\n",
    "A.sum()"
   ]
  },
  {
   "cell_type": "code",
   "execution_count": 59,
   "metadata": {},
   "outputs": [
    {
     "data": {
      "text/plain": [
       "array([ 98, 208, 244, 173])"
      ]
     },
     "execution_count": 59,
     "metadata": {},
     "output_type": "execute_result"
    }
   ],
   "source": [
    "#Rowsise sum of elements in array A\n",
    "A.sum(axis=1)"
   ]
  },
  {
   "cell_type": "code",
   "execution_count": 60,
   "metadata": {},
   "outputs": [
    {
     "data": {
      "text/plain": [
       "array([222, 246, 255])"
      ]
     },
     "execution_count": 60,
     "metadata": {},
     "output_type": "execute_result"
    }
   ],
   "source": [
    "#columwise sum of elements in array A\n",
    "A.sum(axis=0)"
   ]
  },
  {
   "cell_type": "code",
   "execution_count": 61,
   "metadata": {},
   "outputs": [
    {
     "data": {
      "text/plain": [
       "60.25"
      ]
     },
     "execution_count": 61,
     "metadata": {},
     "output_type": "execute_result"
    }
   ],
   "source": [
    "#Find average of all elements in array means find mean\n",
    "A.mean()"
   ]
  },
  {
   "cell_type": "code",
   "execution_count": 62,
   "metadata": {},
   "outputs": [
    {
     "name": "stdout",
     "output_type": "stream",
     "text": [
      "[32.66666667 69.33333333 81.33333333 57.66666667]\n"
     ]
    }
   ],
   "source": [
    "#Rowwise mean of elements in array A\n",
    "print(A.mean(axis=1))"
   ]
  },
  {
   "cell_type": "code",
   "execution_count": 63,
   "metadata": {},
   "outputs": [
    {
     "name": "stdout",
     "output_type": "stream",
     "text": [
      "[55.5  61.5  63.75]\n"
     ]
    }
   ],
   "source": [
    "#colwise mean of elements in array A\n",
    "print(A.mean(axis=0))"
   ]
  },
  {
   "cell_type": "code",
   "execution_count": 64,
   "metadata": {},
   "outputs": [
    {
     "name": "stdout",
     "output_type": "stream",
     "text": [
      "[[23 32 43]\n",
      " [54 89 65]\n",
      " [67 87 90]\n",
      " [78 38 57]]\n"
     ]
    }
   ],
   "source": [
    "print(A)"
   ]
  },
  {
   "cell_type": "code",
   "execution_count": 65,
   "metadata": {},
   "outputs": [
    {
     "name": "stdout",
     "output_type": "stream",
     "text": [
      "[[23 54 67 78]\n",
      " [32 89 87 38]\n",
      " [43 65 90 57]]\n"
     ]
    }
   ],
   "source": [
    "#Find the transpose of Matrix A then use transpose() inbuilt function\n",
    "#transpose means interchange row and columns\n",
    "print(A.transpose())"
   ]
  },
  {
   "cell_type": "code",
   "execution_count": 66,
   "metadata": {},
   "outputs": [
    {
     "name": "stdout",
     "output_type": "stream",
     "text": [
      "[23 32 43 54 89 65 67 87 90 78 38 57]\n"
     ]
    }
   ],
   "source": [
    "##use flatten() ==>Its convert two dimensional array to single dimensional array\n",
    "print(A.flatten())"
   ]
  },
  {
   "cell_type": "code",
   "execution_count": 67,
   "metadata": {},
   "outputs": [
    {
     "name": "stdout",
     "output_type": "stream",
     "text": [
      "[[0. 0. 0.]\n",
      " [0. 0. 0.]\n",
      " [0. 0. 0.]\n",
      " [0. 0. 0.]]\n"
     ]
    }
   ],
   "source": [
    "#zeros array in 2D Array\n",
    "X=np.zeros((4,3)) #here 4 no. of rows and 3 no. of columns bydefault type float\n",
    "print(X)"
   ]
  },
  {
   "cell_type": "code",
   "execution_count": 68,
   "metadata": {},
   "outputs": [
    {
     "name": "stdout",
     "output_type": "stream",
     "text": [
      "[[0 0 0]\n",
      " [0 0 0]\n",
      " [0 0 0]\n",
      " [0 0 0]]\n"
     ]
    }
   ],
   "source": [
    "#zeros array in 2D Array\n",
    "X=np.zeros((4,3),int) #here 4 no. of rows and 3 no. of columns \n",
    "print(X)"
   ]
  },
  {
   "cell_type": "code",
   "execution_count": 69,
   "metadata": {},
   "outputs": [
    {
     "name": "stdout",
     "output_type": "stream",
     "text": [
      "[[ 0  0  0]\n",
      " [ 0  0 88]\n",
      " [ 0  0  0]\n",
      " [ 0  0  0]]\n"
     ]
    }
   ],
   "source": [
    "X[1,2]=88 #repalce the value of 0 with 88 in 1st row index and 2nd colindex\n",
    "print(X)"
   ]
  },
  {
   "cell_type": "code",
   "execution_count": 70,
   "metadata": {},
   "outputs": [
    {
     "name": "stdout",
     "output_type": "stream",
     "text": [
      "[[1. 1. 1. 1.]\n",
      " [1. 1. 1. 1.]\n",
      " [1. 1. 1. 1.]\n",
      " [1. 1. 1. 1.]]\n"
     ]
    }
   ],
   "source": [
    "#ones array in 2D Array\n",
    "X=np.ones((4,4)) #here 4 no. of rows and 4 no. of columns bydefault type float\n",
    "print(X)"
   ]
  },
  {
   "cell_type": "code",
   "execution_count": 71,
   "metadata": {},
   "outputs": [
    {
     "name": "stdout",
     "output_type": "stream",
     "text": [
      "[[1 0 0 0]\n",
      " [0 1 0 0]\n",
      " [0 0 1 0]\n",
      " [0 0 0 1]]\n"
     ]
    }
   ],
   "source": [
    "#create Identity matrix 4*4 then use inbuilt fucntion of numpy ==>eye()\n",
    "I=np.eye(4,dtype=int) #4 means 4 rows and3 cols  and bydefault datatype =float\n",
    "print(I)"
   ]
  },
  {
   "cell_type": "code",
   "execution_count": 72,
   "metadata": {},
   "outputs": [
    {
     "name": "stdout",
     "output_type": "stream",
     "text": [
      "[[1. 0.]\n",
      " [0. 1.]]\n"
     ]
    }
   ],
   "source": [
    "#create Identity matrix 2*2 then use inbuilt fucntion of numpy ==>eye()\n",
    "I=np.eye(2) #2 means 2 rows and 2 cols  and bydefault datatype =float\n",
    "print(I)"
   ]
  },
  {
   "cell_type": "code",
   "execution_count": 73,
   "metadata": {},
   "outputs": [
    {
     "name": "stdout",
     "output_type": "stream",
     "text": [
      "[[1. 0. 0.]\n",
      " [0. 1. 0.]\n",
      " [0. 0. 1.]]\n"
     ]
    }
   ],
   "source": [
    "#create Identity matrix 3*3 then use inbuilt fucntion of numpy ==>eye()\n",
    "I=np.eye(3) #3 means 3 rows and3 cols  and bydefault datatype =float\n",
    "print(I)"
   ]
  },
  {
   "cell_type": "code",
   "execution_count": 74,
   "metadata": {},
   "outputs": [
    {
     "name": "stdout",
     "output_type": "stream",
     "text": [
      "[ 2  3  4  5  6  7  8  9 10 11 12 13 14 15 16 17 18 19 20]\n"
     ]
    }
   ],
   "source": [
    "#another method to create a Single Dimensional Array (1 D) : arange() inbuilt\n",
    "#method\n",
    "A=np.arange(2,21) #here start=2 and stop=21 means 21-1=20 and step =+1 \n",
    "#(because not mension)\n",
    "print(A)"
   ]
  },
  {
   "cell_type": "code",
   "execution_count": 75,
   "metadata": {},
   "outputs": [],
   "source": [
    "A=np.arange(2,21,2)#step=+2"
   ]
  },
  {
   "cell_type": "code",
   "execution_count": 76,
   "metadata": {},
   "outputs": [
    {
     "name": "stdout",
     "output_type": "stream",
     "text": [
      "[ 2  4  6  8 10 12 14 16 18 20]\n"
     ]
    }
   ],
   "source": [
    "print(A)"
   ]
  },
  {
   "cell_type": "code",
   "execution_count": 77,
   "metadata": {},
   "outputs": [],
   "source": [
    "A=np.arange(10,20)"
   ]
  },
  {
   "cell_type": "code",
   "execution_count": 78,
   "metadata": {},
   "outputs": [
    {
     "name": "stdout",
     "output_type": "stream",
     "text": [
      "[10 11 12 13 14 15 16 17 18 19]\n"
     ]
    }
   ],
   "source": [
    "print(A)"
   ]
  },
  {
   "cell_type": "code",
   "execution_count": 79,
   "metadata": {},
   "outputs": [
    {
     "name": "stdout",
     "output_type": "stream",
     "text": [
      "[[10 11]\n",
      " [12 13]\n",
      " [14 15]\n",
      " [16 17]\n",
      " [18 19]]\n"
     ]
    }
   ],
   "source": [
    "#To change 1D array to 2 D array of A array then use reshape() inbuilt function\n",
    "#no. of rows=5 and no.of cols=2 means 5*2=10\n",
    "B=A.reshape(5,2)\n",
    "print(B)"
   ]
  },
  {
   "cell_type": "code",
   "execution_count": 80,
   "metadata": {},
   "outputs": [],
   "source": [
    "#Boardcasting in numpy \n",
    "#for eg.  2D array A\n",
    "A=np.array([[1,2,3,4],[10,20,30,40],[100,200,300,400]])\n"
   ]
  },
  {
   "cell_type": "code",
   "execution_count": 81,
   "metadata": {},
   "outputs": [
    {
     "name": "stdout",
     "output_type": "stream",
     "text": [
      "[[  1   2   3   4]\n",
      " [ 10  20  30  40]\n",
      " [100 200 300 400]]\n"
     ]
    }
   ],
   "source": [
    "print(A)"
   ]
  },
  {
   "cell_type": "code",
   "execution_count": 82,
   "metadata": {},
   "outputs": [
    {
     "name": "stdout",
     "output_type": "stream",
     "text": [
      "[[5 6 7 8]]\n"
     ]
    }
   ],
   "source": [
    "#Create B array\n",
    "B=np.array([[5,6,7,8]])\n",
    "print(B)\n"
   ]
  },
  {
   "cell_type": "code",
   "execution_count": 83,
   "metadata": {},
   "outputs": [
    {
     "data": {
      "text/plain": [
       "array([[  6,   8,  10,  12],\n",
       "       [ 15,  26,  37,  48],\n",
       "       [105, 206, 307, 408]])"
      ]
     },
     "execution_count": 83,
     "metadata": {},
     "output_type": "execute_result"
    }
   ],
   "source": [
    "A+B"
   ]
  },
  {
   "cell_type": "code",
   "execution_count": 84,
   "metadata": {},
   "outputs": [],
   "source": [
    "import numpy as np"
   ]
  },
  {
   "cell_type": "code",
   "execution_count": 85,
   "metadata": {},
   "outputs": [
    {
     "name": "stdout",
     "output_type": "stream",
     "text": [
      "[[10 20 30]\n",
      " [ 1  2  3]\n",
      " [ 5  6  7]\n",
      " [20 30 40]]\n"
     ]
    }
   ],
   "source": [
    "#BoardCasting in numpy\n",
    "#create 2D Array  A 4*3\n",
    "A=np.array([[10,20,30],[1,2,3],[5,6,7],[20,30,40]])\n",
    "print(A)"
   ]
  },
  {
   "cell_type": "code",
   "execution_count": 86,
   "metadata": {},
   "outputs": [],
   "source": [
    "#create  2D array B 1*3\n",
    "B=np.array([[5,7,9]])"
   ]
  },
  {
   "cell_type": "code",
   "execution_count": 87,
   "metadata": {},
   "outputs": [
    {
     "name": "stdout",
     "output_type": "stream",
     "text": [
      "[[5 7 9]]\n"
     ]
    }
   ],
   "source": [
    "print(B)"
   ]
  },
  {
   "cell_type": "code",
   "execution_count": 88,
   "metadata": {},
   "outputs": [
    {
     "data": {
      "text/plain": [
       "array([[15, 27, 39],\n",
       "       [ 6,  9, 12],\n",
       "       [10, 13, 16],\n",
       "       [25, 37, 49]])"
      ]
     },
     "execution_count": 88,
     "metadata": {},
     "output_type": "execute_result"
    }
   ],
   "source": [
    "A+B"
   ]
  },
  {
   "cell_type": "code",
   "execution_count": 89,
   "metadata": {},
   "outputs": [],
   "source": [
    "#vactorization means#Vactorization : to apply any mathmatical operations on 2D array \n",
    "#means to add/subtract/multply/divide of constant value with array"
   ]
  },
  {
   "cell_type": "code",
   "execution_count": 90,
   "metadata": {},
   "outputs": [
    {
     "name": "stdout",
     "output_type": "stream",
     "text": [
      "[[10 20 30]\n",
      " [ 1  2  3]\n",
      " [ 5  6  7]\n",
      " [20 30 40]]\n"
     ]
    }
   ],
   "source": [
    "print(A)"
   ]
  },
  {
   "cell_type": "code",
   "execution_count": 91,
   "metadata": {},
   "outputs": [],
   "source": [
    "B=5"
   ]
  },
  {
   "cell_type": "code",
   "execution_count": 92,
   "metadata": {},
   "outputs": [
    {
     "name": "stdout",
     "output_type": "stream",
     "text": [
      "[[15 25 35]\n",
      " [ 6  7  8]\n",
      " [10 11 12]\n",
      " [25 35 45]]\n"
     ]
    }
   ],
   "source": [
    "print(A+B)"
   ]
  },
  {
   "cell_type": "code",
   "execution_count": null,
   "metadata": {},
   "outputs": [],
   "source": []
  },
  {
   "cell_type": "code",
   "execution_count": 93,
   "metadata": {},
   "outputs": [],
   "source": [
    "#concatenate(( )) means to join 2 or more array \n",
    "#apply 1 D apply\n",
    "A=np.array([10,20,30,40])\n",
    "B=np.array([4,5,6])\n",
    "C=np.array([7,8,9,10,11])"
   ]
  },
  {
   "cell_type": "code",
   "execution_count": 94,
   "metadata": {},
   "outputs": [
    {
     "name": "stdout",
     "output_type": "stream",
     "text": [
      "[10 20 30 40]\n"
     ]
    }
   ],
   "source": [
    "print(A)"
   ]
  },
  {
   "cell_type": "code",
   "execution_count": 95,
   "metadata": {},
   "outputs": [
    {
     "name": "stdout",
     "output_type": "stream",
     "text": [
      "[4 5 6]\n"
     ]
    }
   ],
   "source": [
    "print(B)"
   ]
  },
  {
   "cell_type": "code",
   "execution_count": 96,
   "metadata": {},
   "outputs": [
    {
     "name": "stdout",
     "output_type": "stream",
     "text": [
      "[ 7  8  9 10 11]\n"
     ]
    }
   ],
   "source": [
    "print(C)"
   ]
  },
  {
   "cell_type": "code",
   "execution_count": 97,
   "metadata": {},
   "outputs": [
    {
     "name": "stdout",
     "output_type": "stream",
     "text": [
      "[10 20 30 40  4  5  6  7  8  9 10 11]\n"
     ]
    }
   ],
   "source": [
    "#concate A,B and C array and hold in new array D\n",
    "D=np.concatenate((A,B,C))\n",
    "print(D)"
   ]
  },
  {
   "cell_type": "code",
   "execution_count": 98,
   "metadata": {},
   "outputs": [],
   "source": [
    "#suppose Create Matrix A and B both are 2*2\n",
    "A=np.array([[1,2],[3,4]])\n",
    "B=np.array([[5,6],[7,8]])\n"
   ]
  },
  {
   "cell_type": "code",
   "execution_count": 99,
   "metadata": {},
   "outputs": [
    {
     "data": {
      "text/plain": [
       "array([[1, 2],\n",
       "       [3, 4],\n",
       "       [5, 6],\n",
       "       [7, 8]])"
      ]
     },
     "execution_count": 99,
     "metadata": {},
     "output_type": "execute_result"
    }
   ],
   "source": [
    "#Concate of matrix A and B (2D array)\n",
    "np.concatenate((A,B))"
   ]
  },
  {
   "cell_type": "code",
   "execution_count": 100,
   "metadata": {},
   "outputs": [
    {
     "data": {
      "text/plain": [
       "array([[1, 2, 5, 6],\n",
       "       [3, 4, 7, 8]])"
      ]
     },
     "execution_count": 100,
     "metadata": {},
     "output_type": "execute_result"
    }
   ],
   "source": [
    "#concate of matrix A and B\n",
    "np.concatenate((A,B),axis=1)"
   ]
  },
  {
   "cell_type": "code",
   "execution_count": 5,
   "metadata": {},
   "outputs": [],
   "source": [
    "import os"
   ]
  },
  {
   "cell_type": "code",
   "execution_count": 7,
   "metadata": {},
   "outputs": [
    {
     "data": {
      "text/plain": [
       "'C:\\\\Users\\\\ncman'"
      ]
     },
     "execution_count": 7,
     "metadata": {},
     "output_type": "execute_result"
    }
   ],
   "source": [
    "os.getcwd()"
   ]
  },
  {
   "cell_type": "code",
   "execution_count": 1,
   "metadata": {},
   "outputs": [],
   "source": [
    "import pandas as pd"
   ]
  },
  {
   "cell_type": "code",
   "execution_count": 2,
   "metadata": {},
   "outputs": [
    {
     "data": {
      "text/html": [
       "<div>\n",
       "<style scoped>\n",
       "    .dataframe tbody tr th:only-of-type {\n",
       "        vertical-align: middle;\n",
       "    }\n",
       "\n",
       "    .dataframe tbody tr th {\n",
       "        vertical-align: top;\n",
       "    }\n",
       "\n",
       "    .dataframe thead th {\n",
       "        text-align: right;\n",
       "    }\n",
       "</style>\n",
       "<table border=\"1\" class=\"dataframe\">\n",
       "  <thead>\n",
       "    <tr style=\"text-align: right;\">\n",
       "      <th></th>\n",
       "      <th>a-link-normal href</th>\n",
       "      <th>s-image src</th>\n",
       "      <th>a-size-medium</th>\n",
       "      <th>a-popover-trigger href</th>\n",
       "      <th>a-icon-alt</th>\n",
       "      <th>a-link-normal href 3</th>\n",
       "      <th>a-size-base</th>\n",
       "      <th>a-size-base href</th>\n",
       "      <th>a-offscreen</th>\n",
       "      <th>a-price-whole</th>\n",
       "      <th>a-offscreen 2</th>\n",
       "      <th>a-row</th>\n",
       "      <th>a-row 2</th>\n",
       "      <th>a-text-bold</th>\n",
       "      <th>a-row 3</th>\n",
       "      <th>a-link-normal href 4</th>\n",
       "    </tr>\n",
       "  </thead>\n",
       "  <tbody>\n",
       "    <tr>\n",
       "      <th>0</th>\n",
       "      <td>https://www.amazon.in/Redmi-9A-2GB-32GB-Storag...</td>\n",
       "      <td>https://m.media-amazon.com/images/I/710fuhtgIS...</td>\n",
       "      <td>Redmi 9A (Nature Green, 2GB Ram, 32GB Storage)</td>\n",
       "      <td>javascript:void(0)</td>\n",
       "      <td>4.1 out of 5 stars</td>\n",
       "      <td>https://www.amazon.in/Redmi-9A-2GB-32GB-Storag...</td>\n",
       "      <td>10,399</td>\n",
       "      <td>https://www.amazon.in/Redmi-9A-2GB-32GB-Storag...</td>\n",
       "      <td>₹6,999</td>\n",
       "      <td>6,999</td>\n",
       "      <td>₹8,499</td>\n",
       "      <td>Save ₹1,500 (18%)</td>\n",
       "      <td>Get it by</td>\n",
       "      <td>Wednesday, January 6</td>\n",
       "      <td>FREE Delivery by Amazon</td>\n",
       "      <td>NaN</td>\n",
       "    </tr>\n",
       "    <tr>\n",
       "      <th>1</th>\n",
       "      <td>https://www.amazon.in/Redmi-9A-Midnight-3GB-32...</td>\n",
       "      <td>https://m.media-amazon.com/images/I/712Ex7xDnd...</td>\n",
       "      <td>Redmi 9A (Midnight Black, 3GB Ram, 32GB Storage)</td>\n",
       "      <td>javascript:void(0)</td>\n",
       "      <td>4.1 out of 5 stars</td>\n",
       "      <td>https://www.amazon.in/Redmi-9A-Midnight-3GB-32...</td>\n",
       "      <td>10,399</td>\n",
       "      <td>https://www.amazon.in/Redmi-9A-Midnight-3GB-32...</td>\n",
       "      <td>₹7,499</td>\n",
       "      <td>7,499</td>\n",
       "      <td>₹9,499</td>\n",
       "      <td>Save ₹2,000 (21%)</td>\n",
       "      <td>Get it by</td>\n",
       "      <td>Friday, January 8</td>\n",
       "      <td>FREE Delivery by Amazon</td>\n",
       "      <td>NaN</td>\n",
       "    </tr>\n",
       "    <tr>\n",
       "      <th>2</th>\n",
       "      <td>https://www.amazon.in/Panasonic-Storage-Finger...</td>\n",
       "      <td>https://m.media-amazon.com/images/I/41QsvcpKaZ...</td>\n",
       "      <td>Panasonic Eluga i7 (2GB RAM, 16GB Storage, Fin...</td>\n",
       "      <td>javascript:void(0)</td>\n",
       "      <td>2.8 out of 5 stars</td>\n",
       "      <td>https://www.amazon.in/Panasonic-Storage-Finger...</td>\n",
       "      <td>792</td>\n",
       "      <td>https://www.amazon.in/Panasonic-Storage-Finger...</td>\n",
       "      <td>₹5,000</td>\n",
       "      <td>5,000</td>\n",
       "      <td>₹10,999</td>\n",
       "      <td>Save ₹5,999 (55%)</td>\n",
       "      <td>Get it by</td>\n",
       "      <td>Wednesday, January 6</td>\n",
       "      <td>FREE Delivery by Amazon</td>\n",
       "      <td>NaN</td>\n",
       "    </tr>\n",
       "    <tr>\n",
       "      <th>3</th>\n",
       "      <td>https://www.amazon.in/Lava-Z66-Marine-Blue-Sto...</td>\n",
       "      <td>https://m.media-amazon.com/images/I/61U+VB+kTi...</td>\n",
       "      <td>Lava Z66 (Marine Blue, 3GB RAM, 32GB Storage)</td>\n",
       "      <td>javascript:void(0)</td>\n",
       "      <td>4.1 out of 5 stars</td>\n",
       "      <td>https://www.amazon.in/Lava-Z66-Marine-Blue-Sto...</td>\n",
       "      <td>90</td>\n",
       "      <td>https://www.amazon.in/Lava-Z66-Marine-Blue-Sto...</td>\n",
       "      <td>₹7,377</td>\n",
       "      <td>7,377</td>\n",
       "      <td>₹8,499</td>\n",
       "      <td>Save ₹1,122 (13%)</td>\n",
       "      <td>Get it by</td>\n",
       "      <td>Wednesday, January 6</td>\n",
       "      <td>FREE Delivery by Amazon</td>\n",
       "      <td>https://www.amazon.in/gp/offer-listing/B08DNZ4...</td>\n",
       "    </tr>\n",
       "    <tr>\n",
       "      <th>4</th>\n",
       "      <td>https://www.amazon.in/Redmi-8A-Dual-Blue-Stora...</td>\n",
       "      <td>https://m.media-amazon.com/images/I/71yXShgxvp...</td>\n",
       "      <td>Redmi 8A Dual (Sea Blue, 3GB RAM, 32GB Storage...</td>\n",
       "      <td>javascript:void(0)</td>\n",
       "      <td>4.0 out of 5 stars</td>\n",
       "      <td>https://www.amazon.in/Redmi-8A-Dual-Blue-Stora...</td>\n",
       "      <td>32,410</td>\n",
       "      <td>https://www.amazon.in/Redmi-8A-Dual-Blue-Stora...</td>\n",
       "      <td>₹7,999</td>\n",
       "      <td>7,999</td>\n",
       "      <td>NaN</td>\n",
       "      <td>NaN</td>\n",
       "      <td>Get it by</td>\n",
       "      <td>Tomorrow, January 4</td>\n",
       "      <td>FREE Delivery by Amazon</td>\n",
       "      <td>NaN</td>\n",
       "    </tr>\n",
       "    <tr>\n",
       "      <th>5</th>\n",
       "      <td>https://www.amazon.in/Nillkin-Realme-Super-Fro...</td>\n",
       "      <td>https://m.media-amazon.com/images/I/51j8kd6VPH...</td>\n",
       "      <td>Nillkin Case for Oppo Realme Real Me 6 / Realm...</td>\n",
       "      <td>NaN</td>\n",
       "      <td>NaN</td>\n",
       "      <td>NaN</td>\n",
       "      <td>NaN</td>\n",
       "      <td>https://www.amazon.in/Nillkin-Realme-Super-Fro...</td>\n",
       "      <td>₹1,099</td>\n",
       "      <td>1,099</td>\n",
       "      <td>₹1,599</td>\n",
       "      <td>Save ₹500 (31%)</td>\n",
       "      <td>Get it by</td>\n",
       "      <td>Thursday, January 7</td>\n",
       "      <td>FREE Delivery by Amazon</td>\n",
       "      <td>NaN</td>\n",
       "    </tr>\n",
       "    <tr>\n",
       "      <th>6</th>\n",
       "      <td>https://www.amazon.in/KALL-K320-6-53-64GB-Purp...</td>\n",
       "      <td>https://m.media-amazon.com/images/I/616xXmVTlJ...</td>\n",
       "      <td>I KALL K320 (6.53, 4GB, 64GB) (Purple)</td>\n",
       "      <td>javascript:void(0)</td>\n",
       "      <td>5.0 out of 5 stars</td>\n",
       "      <td>https://www.amazon.in/KALL-K320-6-53-64GB-Purp...</td>\n",
       "      <td>2</td>\n",
       "      <td>https://www.amazon.in/KALL-K320-6-53-64GB-Purp...</td>\n",
       "      <td>₹6,299</td>\n",
       "      <td>6,299</td>\n",
       "      <td>₹9,999</td>\n",
       "      <td>Save ₹3,700 (37%)</td>\n",
       "      <td>Get it by</td>\n",
       "      <td>Sunday, January 10</td>\n",
       "      <td>FREE Delivery by Amazon</td>\n",
       "      <td>https://www.amazon.in/gp/goldbox/</td>\n",
       "    </tr>\n",
       "    <tr>\n",
       "      <th>7</th>\n",
       "      <td>https://www.amazon.in/Redmi-8A-Dual-White-Stor...</td>\n",
       "      <td>https://m.media-amazon.com/images/I/710p2f-zAd...</td>\n",
       "      <td>Redmi 8A Dual (Sky White, 3GB RAM, 64GB Storag...</td>\n",
       "      <td>javascript:void(0)</td>\n",
       "      <td>4.0 out of 5 stars</td>\n",
       "      <td>https://www.amazon.in/Redmi-8A-Dual-White-Stor...</td>\n",
       "      <td>32,410</td>\n",
       "      <td>NaN</td>\n",
       "      <td>₹8,299</td>\n",
       "      <td>8,299</td>\n",
       "      <td>₹9,999</td>\n",
       "      <td>Save ₹1,700 (17%)</td>\n",
       "      <td>Get it by</td>\n",
       "      <td>Tomorrow, January 4</td>\n",
       "      <td>FREE Delivery by Amazon</td>\n",
       "      <td>NaN</td>\n",
       "    </tr>\n",
       "    <tr>\n",
       "      <th>8</th>\n",
       "      <td>https://www.amazon.in/Redmi-8A-Dual-Midnight-S...</td>\n",
       "      <td>https://m.media-amazon.com/images/I/71h+C9wJCj...</td>\n",
       "      <td>Redmi 8A Dual (Midnight Grey, 3GB RAM, 64GB St...</td>\n",
       "      <td>javascript:void(0)</td>\n",
       "      <td>4.0 out of 5 stars</td>\n",
       "      <td>https://www.amazon.in/Redmi-8A-Dual-Midnight-S...</td>\n",
       "      <td>32,410</td>\n",
       "      <td>https://www.amazon.in/Redmi-8A-Dual-Midnight-S...</td>\n",
       "      <td>₹8,299</td>\n",
       "      <td>8,299</td>\n",
       "      <td>₹9,999</td>\n",
       "      <td>Save ₹1,700 (17%)</td>\n",
       "      <td>Get it by</td>\n",
       "      <td>Wednesday, January 6</td>\n",
       "      <td>FREE Delivery by Amazon</td>\n",
       "      <td>NaN</td>\n",
       "    </tr>\n",
       "    <tr>\n",
       "      <th>9</th>\n",
       "      <td>https://www.amazon.in/Vivo-Fusion-Storage-Addi...</td>\n",
       "      <td>https://m.media-amazon.com/images/I/51ZoulFBPG...</td>\n",
       "      <td>Vivo Y91i (Fusion Black, 2GB RAM, 32GB Storage...</td>\n",
       "      <td>javascript:void(0)</td>\n",
       "      <td>4.2 out of 5 stars</td>\n",
       "      <td>https://www.amazon.in/Vivo-Fusion-Storage-Addi...</td>\n",
       "      <td>1,472</td>\n",
       "      <td>https://www.amazon.in/Vivo-Fusion-Storage-Addi...</td>\n",
       "      <td>₹7,990</td>\n",
       "      <td>7,990</td>\n",
       "      <td>₹9,990</td>\n",
       "      <td>Save ₹2,000 (20%)</td>\n",
       "      <td>Get it by</td>\n",
       "      <td>Tomorrow, January 4</td>\n",
       "      <td>FREE Delivery by Amazon</td>\n",
       "      <td>NaN</td>\n",
       "    </tr>\n",
       "    <tr>\n",
       "      <th>10</th>\n",
       "      <td>https://www.amazon.in/Samsung-Galaxy-Electric-...</td>\n",
       "      <td>https://m.media-amazon.com/images/I/710weRkP-n...</td>\n",
       "      <td>Samsung Galaxy M51 (Electric Blue, 6GB RAM, 12...</td>\n",
       "      <td>javascript:void(0)</td>\n",
       "      <td>4.4 out of 5 stars</td>\n",
       "      <td>https://www.amazon.in/Samsung-Galaxy-Electric-...</td>\n",
       "      <td>24,944</td>\n",
       "      <td>NaN</td>\n",
       "      <td>₹22,999</td>\n",
       "      <td>22,999</td>\n",
       "      <td>₹28,999</td>\n",
       "      <td>Save ₹6,000 (21%)</td>\n",
       "      <td>Get it by</td>\n",
       "      <td>Friday, January 8</td>\n",
       "      <td>FREE Delivery by Amazon</td>\n",
       "      <td>https://www.amazon.in/gp/goldbox/</td>\n",
       "    </tr>\n",
       "    <tr>\n",
       "      <th>11</th>\n",
       "      <td>https://www.amazon.in/Nokia-C3-Android-Smartph...</td>\n",
       "      <td>https://m.media-amazon.com/images/I/71Vh6ktdqM...</td>\n",
       "      <td>Nokia C3 Android 10 Smartphone with 2GB RAM 16...</td>\n",
       "      <td>javascript:void(0)</td>\n",
       "      <td>3.5 out of 5 stars</td>\n",
       "      <td>https://www.amazon.in/Nokia-C3-Android-Smartph...</td>\n",
       "      <td>136</td>\n",
       "      <td>https://www.amazon.in/Nokia-C3-Android-Smartph...</td>\n",
       "      <td>₹6,999</td>\n",
       "      <td>6,999</td>\n",
       "      <td>₹8,499</td>\n",
       "      <td>Save ₹1,500 (18%)</td>\n",
       "      <td>Get it by</td>\n",
       "      <td>Saturday, January 9</td>\n",
       "      <td>FREE Delivery by Amazon</td>\n",
       "      <td>NaN</td>\n",
       "    </tr>\n",
       "    <tr>\n",
       "      <th>12</th>\n",
       "      <td>https://www.amazon.in/Lenovo-Black-Storage-400...</td>\n",
       "      <td>https://m.media-amazon.com/images/I/317jmcaI6P...</td>\n",
       "      <td>Lenovo A7 (Black, 4GB RAM, 64GB Storage, 4000m...</td>\n",
       "      <td>javascript:void(0)</td>\n",
       "      <td>3.5 out of 5 stars</td>\n",
       "      <td>https://www.amazon.in/Lenovo-Black-Storage-400...</td>\n",
       "      <td>24</td>\n",
       "      <td>NaN</td>\n",
       "      <td>₹8,146</td>\n",
       "      <td>8,146</td>\n",
       "      <td>₹11,999</td>\n",
       "      <td>Save ₹3,853 (32%)</td>\n",
       "      <td>Get it by</td>\n",
       "      <td>Friday, January 8</td>\n",
       "      <td>FREE Delivery by Amazon</td>\n",
       "      <td>NaN</td>\n",
       "    </tr>\n",
       "    <tr>\n",
       "      <th>13</th>\n",
       "      <td>https://www.amazon.in/Redmi-8A-Dual-Midnight-S...</td>\n",
       "      <td>https://m.media-amazon.com/images/I/71h+C9wJCj...</td>\n",
       "      <td>Redmi 8A Dual (Midnight Grey, 3GB RAM, 32GB St...</td>\n",
       "      <td>javascript:void(0)</td>\n",
       "      <td>4.0 out of 5 stars</td>\n",
       "      <td>https://www.amazon.in/Redmi-8A-Dual-Midnight-S...</td>\n",
       "      <td>32,410</td>\n",
       "      <td>https://www.amazon.in/Redmi-8A-Dual-Midnight-S...</td>\n",
       "      <td>₹7,999</td>\n",
       "      <td>7,999</td>\n",
       "      <td>₹8,999</td>\n",
       "      <td>Save ₹1,000 (11%)</td>\n",
       "      <td>Get it by</td>\n",
       "      <td>Friday, January 8</td>\n",
       "      <td>FREE Delivery by Amazon</td>\n",
       "      <td>NaN</td>\n",
       "    </tr>\n",
       "    <tr>\n",
       "      <th>14</th>\n",
       "      <td>https://www.amazon.in/Samsung-Galaxy-Storage-A...</td>\n",
       "      <td>https://m.media-amazon.com/images/I/71ahT-X2Fg...</td>\n",
       "      <td>Samsung Galaxy M01 Core (Blue, 1GB RAM, 16GB S...</td>\n",
       "      <td>javascript:void(0)</td>\n",
       "      <td>3.4 out of 5 stars</td>\n",
       "      <td>https://www.amazon.in/Samsung-Galaxy-Storage-A...</td>\n",
       "      <td>7,214</td>\n",
       "      <td>https://www.amazon.in/Samsung-Galaxy-Storage-A...</td>\n",
       "      <td>₹4,999</td>\n",
       "      <td>4,999</td>\n",
       "      <td>₹6,999</td>\n",
       "      <td>Save ₹2,000 (29%)</td>\n",
       "      <td>Get it by</td>\n",
       "      <td>Wednesday, January 6</td>\n",
       "      <td>FREE Delivery by Amazon</td>\n",
       "      <td>NaN</td>\n",
       "    </tr>\n",
       "    <tr>\n",
       "      <th>15</th>\n",
       "      <td>https://www.amazon.in/Redmi-6A-Black-2GBRAM-St...</td>\n",
       "      <td>https://m.media-amazon.com/images/I/718oiyc2ql...</td>\n",
       "      <td>Mi Redmi 6A (Black, 2GB RAM, 16GB Storage)</td>\n",
       "      <td>javascript:void(0)</td>\n",
       "      <td>4.2 out of 5 stars</td>\n",
       "      <td>https://www.amazon.in/Redmi-6A-Black-2GBRAM-St...</td>\n",
       "      <td>19,854</td>\n",
       "      <td>https://www.amazon.in/Redmi-6A-Black-2GBRAM-St...</td>\n",
       "      <td>₹6,999</td>\n",
       "      <td>6,999</td>\n",
       "      <td>NaN</td>\n",
       "      <td>Get a FREE delivery slot on orders over ₹700</td>\n",
       "      <td>NaN</td>\n",
       "      <td>NaN</td>\n",
       "      <td>NaN</td>\n",
       "      <td>https://www.amazon.in/gp/offer-listing/B077PW9...</td>\n",
       "    </tr>\n",
       "  </tbody>\n",
       "</table>\n",
       "</div>"
      ],
      "text/plain": [
       "                                   a-link-normal href  \\\n",
       "0   https://www.amazon.in/Redmi-9A-2GB-32GB-Storag...   \n",
       "1   https://www.amazon.in/Redmi-9A-Midnight-3GB-32...   \n",
       "2   https://www.amazon.in/Panasonic-Storage-Finger...   \n",
       "3   https://www.amazon.in/Lava-Z66-Marine-Blue-Sto...   \n",
       "4   https://www.amazon.in/Redmi-8A-Dual-Blue-Stora...   \n",
       "5   https://www.amazon.in/Nillkin-Realme-Super-Fro...   \n",
       "6   https://www.amazon.in/KALL-K320-6-53-64GB-Purp...   \n",
       "7   https://www.amazon.in/Redmi-8A-Dual-White-Stor...   \n",
       "8   https://www.amazon.in/Redmi-8A-Dual-Midnight-S...   \n",
       "9   https://www.amazon.in/Vivo-Fusion-Storage-Addi...   \n",
       "10  https://www.amazon.in/Samsung-Galaxy-Electric-...   \n",
       "11  https://www.amazon.in/Nokia-C3-Android-Smartph...   \n",
       "12  https://www.amazon.in/Lenovo-Black-Storage-400...   \n",
       "13  https://www.amazon.in/Redmi-8A-Dual-Midnight-S...   \n",
       "14  https://www.amazon.in/Samsung-Galaxy-Storage-A...   \n",
       "15  https://www.amazon.in/Redmi-6A-Black-2GBRAM-St...   \n",
       "\n",
       "                                          s-image src  \\\n",
       "0   https://m.media-amazon.com/images/I/710fuhtgIS...   \n",
       "1   https://m.media-amazon.com/images/I/712Ex7xDnd...   \n",
       "2   https://m.media-amazon.com/images/I/41QsvcpKaZ...   \n",
       "3   https://m.media-amazon.com/images/I/61U+VB+kTi...   \n",
       "4   https://m.media-amazon.com/images/I/71yXShgxvp...   \n",
       "5   https://m.media-amazon.com/images/I/51j8kd6VPH...   \n",
       "6   https://m.media-amazon.com/images/I/616xXmVTlJ...   \n",
       "7   https://m.media-amazon.com/images/I/710p2f-zAd...   \n",
       "8   https://m.media-amazon.com/images/I/71h+C9wJCj...   \n",
       "9   https://m.media-amazon.com/images/I/51ZoulFBPG...   \n",
       "10  https://m.media-amazon.com/images/I/710weRkP-n...   \n",
       "11  https://m.media-amazon.com/images/I/71Vh6ktdqM...   \n",
       "12  https://m.media-amazon.com/images/I/317jmcaI6P...   \n",
       "13  https://m.media-amazon.com/images/I/71h+C9wJCj...   \n",
       "14  https://m.media-amazon.com/images/I/71ahT-X2Fg...   \n",
       "15  https://m.media-amazon.com/images/I/718oiyc2ql...   \n",
       "\n",
       "                                        a-size-medium a-popover-trigger href  \\\n",
       "0      Redmi 9A (Nature Green, 2GB Ram, 32GB Storage)     javascript:void(0)   \n",
       "1    Redmi 9A (Midnight Black, 3GB Ram, 32GB Storage)     javascript:void(0)   \n",
       "2   Panasonic Eluga i7 (2GB RAM, 16GB Storage, Fin...     javascript:void(0)   \n",
       "3       Lava Z66 (Marine Blue, 3GB RAM, 32GB Storage)     javascript:void(0)   \n",
       "4   Redmi 8A Dual (Sea Blue, 3GB RAM, 32GB Storage...     javascript:void(0)   \n",
       "5   Nillkin Case for Oppo Realme Real Me 6 / Realm...                    NaN   \n",
       "6              I KALL K320 (6.53, 4GB, 64GB) (Purple)     javascript:void(0)   \n",
       "7   Redmi 8A Dual (Sky White, 3GB RAM, 64GB Storag...     javascript:void(0)   \n",
       "8   Redmi 8A Dual (Midnight Grey, 3GB RAM, 64GB St...     javascript:void(0)   \n",
       "9   Vivo Y91i (Fusion Black, 2GB RAM, 32GB Storage...     javascript:void(0)   \n",
       "10  Samsung Galaxy M51 (Electric Blue, 6GB RAM, 12...     javascript:void(0)   \n",
       "11  Nokia C3 Android 10 Smartphone with 2GB RAM 16...     javascript:void(0)   \n",
       "12  Lenovo A7 (Black, 4GB RAM, 64GB Storage, 4000m...     javascript:void(0)   \n",
       "13  Redmi 8A Dual (Midnight Grey, 3GB RAM, 32GB St...     javascript:void(0)   \n",
       "14  Samsung Galaxy M01 Core (Blue, 1GB RAM, 16GB S...     javascript:void(0)   \n",
       "15         Mi Redmi 6A (Black, 2GB RAM, 16GB Storage)     javascript:void(0)   \n",
       "\n",
       "            a-icon-alt                               a-link-normal href 3  \\\n",
       "0   4.1 out of 5 stars  https://www.amazon.in/Redmi-9A-2GB-32GB-Storag...   \n",
       "1   4.1 out of 5 stars  https://www.amazon.in/Redmi-9A-Midnight-3GB-32...   \n",
       "2   2.8 out of 5 stars  https://www.amazon.in/Panasonic-Storage-Finger...   \n",
       "3   4.1 out of 5 stars  https://www.amazon.in/Lava-Z66-Marine-Blue-Sto...   \n",
       "4   4.0 out of 5 stars  https://www.amazon.in/Redmi-8A-Dual-Blue-Stora...   \n",
       "5                  NaN                                                NaN   \n",
       "6   5.0 out of 5 stars  https://www.amazon.in/KALL-K320-6-53-64GB-Purp...   \n",
       "7   4.0 out of 5 stars  https://www.amazon.in/Redmi-8A-Dual-White-Stor...   \n",
       "8   4.0 out of 5 stars  https://www.amazon.in/Redmi-8A-Dual-Midnight-S...   \n",
       "9   4.2 out of 5 stars  https://www.amazon.in/Vivo-Fusion-Storage-Addi...   \n",
       "10  4.4 out of 5 stars  https://www.amazon.in/Samsung-Galaxy-Electric-...   \n",
       "11  3.5 out of 5 stars  https://www.amazon.in/Nokia-C3-Android-Smartph...   \n",
       "12  3.5 out of 5 stars  https://www.amazon.in/Lenovo-Black-Storage-400...   \n",
       "13  4.0 out of 5 stars  https://www.amazon.in/Redmi-8A-Dual-Midnight-S...   \n",
       "14  3.4 out of 5 stars  https://www.amazon.in/Samsung-Galaxy-Storage-A...   \n",
       "15  4.2 out of 5 stars  https://www.amazon.in/Redmi-6A-Black-2GBRAM-St...   \n",
       "\n",
       "   a-size-base                                   a-size-base href a-offscreen  \\\n",
       "0       10,399  https://www.amazon.in/Redmi-9A-2GB-32GB-Storag...      ₹6,999   \n",
       "1       10,399  https://www.amazon.in/Redmi-9A-Midnight-3GB-32...      ₹7,499   \n",
       "2          792  https://www.amazon.in/Panasonic-Storage-Finger...      ₹5,000   \n",
       "3           90  https://www.amazon.in/Lava-Z66-Marine-Blue-Sto...      ₹7,377   \n",
       "4       32,410  https://www.amazon.in/Redmi-8A-Dual-Blue-Stora...      ₹7,999   \n",
       "5          NaN  https://www.amazon.in/Nillkin-Realme-Super-Fro...      ₹1,099   \n",
       "6            2  https://www.amazon.in/KALL-K320-6-53-64GB-Purp...      ₹6,299   \n",
       "7       32,410                                                NaN      ₹8,299   \n",
       "8       32,410  https://www.amazon.in/Redmi-8A-Dual-Midnight-S...      ₹8,299   \n",
       "9        1,472  https://www.amazon.in/Vivo-Fusion-Storage-Addi...      ₹7,990   \n",
       "10      24,944                                                NaN     ₹22,999   \n",
       "11         136  https://www.amazon.in/Nokia-C3-Android-Smartph...      ₹6,999   \n",
       "12          24                                                NaN      ₹8,146   \n",
       "13      32,410  https://www.amazon.in/Redmi-8A-Dual-Midnight-S...      ₹7,999   \n",
       "14       7,214  https://www.amazon.in/Samsung-Galaxy-Storage-A...      ₹4,999   \n",
       "15      19,854  https://www.amazon.in/Redmi-6A-Black-2GBRAM-St...      ₹6,999   \n",
       "\n",
       "   a-price-whole a-offscreen 2                                         a-row  \\\n",
       "0          6,999        ₹8,499                             Save ₹1,500 (18%)   \n",
       "1          7,499        ₹9,499                             Save ₹2,000 (21%)   \n",
       "2          5,000       ₹10,999                             Save ₹5,999 (55%)   \n",
       "3          7,377        ₹8,499                             Save ₹1,122 (13%)   \n",
       "4          7,999           NaN                                           NaN   \n",
       "5          1,099        ₹1,599                               Save ₹500 (31%)   \n",
       "6          6,299        ₹9,999                             Save ₹3,700 (37%)   \n",
       "7          8,299        ₹9,999                             Save ₹1,700 (17%)   \n",
       "8          8,299        ₹9,999                             Save ₹1,700 (17%)   \n",
       "9          7,990        ₹9,990                             Save ₹2,000 (20%)   \n",
       "10        22,999       ₹28,999                             Save ₹6,000 (21%)   \n",
       "11         6,999        ₹8,499                             Save ₹1,500 (18%)   \n",
       "12         8,146       ₹11,999                             Save ₹3,853 (32%)   \n",
       "13         7,999        ₹8,999                             Save ₹1,000 (11%)   \n",
       "14         4,999        ₹6,999                             Save ₹2,000 (29%)   \n",
       "15         6,999           NaN  Get a FREE delivery slot on orders over ₹700   \n",
       "\n",
       "      a-row 2           a-text-bold                  a-row 3  \\\n",
       "0   Get it by  Wednesday, January 6  FREE Delivery by Amazon   \n",
       "1   Get it by     Friday, January 8  FREE Delivery by Amazon   \n",
       "2   Get it by  Wednesday, January 6  FREE Delivery by Amazon   \n",
       "3   Get it by  Wednesday, January 6  FREE Delivery by Amazon   \n",
       "4   Get it by   Tomorrow, January 4  FREE Delivery by Amazon   \n",
       "5   Get it by   Thursday, January 7  FREE Delivery by Amazon   \n",
       "6   Get it by    Sunday, January 10  FREE Delivery by Amazon   \n",
       "7   Get it by   Tomorrow, January 4  FREE Delivery by Amazon   \n",
       "8   Get it by  Wednesday, January 6  FREE Delivery by Amazon   \n",
       "9   Get it by   Tomorrow, January 4  FREE Delivery by Amazon   \n",
       "10  Get it by     Friday, January 8  FREE Delivery by Amazon   \n",
       "11  Get it by   Saturday, January 9  FREE Delivery by Amazon   \n",
       "12  Get it by     Friday, January 8  FREE Delivery by Amazon   \n",
       "13  Get it by     Friday, January 8  FREE Delivery by Amazon   \n",
       "14  Get it by  Wednesday, January 6  FREE Delivery by Amazon   \n",
       "15        NaN                   NaN                      NaN   \n",
       "\n",
       "                                 a-link-normal href 4  \n",
       "0                                                 NaN  \n",
       "1                                                 NaN  \n",
       "2                                                 NaN  \n",
       "3   https://www.amazon.in/gp/offer-listing/B08DNZ4...  \n",
       "4                                                 NaN  \n",
       "5                                                 NaN  \n",
       "6                   https://www.amazon.in/gp/goldbox/  \n",
       "7                                                 NaN  \n",
       "8                                                 NaN  \n",
       "9                                                 NaN  \n",
       "10                  https://www.amazon.in/gp/goldbox/  \n",
       "11                                                NaN  \n",
       "12                                                NaN  \n",
       "13                                                NaN  \n",
       "14                                                NaN  \n",
       "15  https://www.amazon.in/gp/offer-listing/B077PW9...  "
      ]
     },
     "execution_count": 2,
     "metadata": {},
     "output_type": "execute_result"
    }
   ],
   "source": [
    "df=pd.read_csv(\"mobile2.csv\")\n",
    "df"
   ]
  },
  {
   "cell_type": "code",
   "execution_count": null,
   "metadata": {},
   "outputs": [],
   "source": []
  },
  {
   "cell_type": "code",
   "execution_count": null,
   "metadata": {},
   "outputs": [],
   "source": []
  }
 ],
 "metadata": {
  "kernelspec": {
   "display_name": "Python 3",
   "language": "python",
   "name": "python3"
  },
  "language_info": {
   "codemirror_mode": {
    "name": "ipython",
    "version": 3
   },
   "file_extension": ".py",
   "mimetype": "text/x-python",
   "name": "python",
   "nbconvert_exporter": "python",
   "pygments_lexer": "ipython3",
   "version": "3.7.6"
  }
 },
 "nbformat": 4,
 "nbformat_minor": 4
}
